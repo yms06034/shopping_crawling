{
 "cells": [
  {
   "cell_type": "code",
   "execution_count": null,
   "id": "0862a77f",
   "metadata": {},
   "outputs": [],
   "source": [
    "# !pip install selenium\n",
    "# !pip install BeautifulSoup4\n",
    "# !pip install requests\n",
    "# !pip install pandas\n",
    "# !pip install numpy\n",
    "# !pip install webdriver_manager\n",
    "# !pip install pyperclip\n",
    "# !pip install fake-useragent"
   ]
  },
  {
   "cell_type": "code",
   "execution_count": 1,
   "id": "1dfa6676",
   "metadata": {},
   "outputs": [],
   "source": [
    "from selenium import webdriver\n",
    "from selenium.webdriver.common.by import By\n",
    "from selenium.webdriver.common.keys import Keys\n",
    "from selenium.webdriver.chrome.options import Options\n",
    "from selenium.webdriver.chrome.service import Service\n",
    "from selenium.common.exceptions import *\n",
    "\n",
    "from webdriver_manager.chrome import ChromeDriverManager\n",
    "from bs4 import BeautifulSoup as BS\n",
    "from urllib.parse import urlparse, parse_qs\n",
    "\n",
    "import pandas as pd\n",
    "import numpy as np\n",
    "import time\n",
    "import requests\n",
    "import pyperclip\n",
    "import warnings\n",
    "\n",
    "warnings.filterwarnings(action='ignore')"
   ]
  },
  {
   "cell_type": "code",
   "execution_count": 2,
   "id": "2f0ef097",
   "metadata": {},
   "outputs": [],
   "source": [
    "def find_css(css_selector):\n",
    "    return browser.find_element(By.CSS_SELECTOR, css_selector)\n",
    "def finds_css(css_selector):\n",
    "    return browser.find_elements(By.CSS_SELECTOR, css_selector)\n",
    "\n",
    "def find_xpath(xpath):\n",
    "    return browser.find_element(By.XPATH, xpath)\n",
    "def finds_xpath(xpath):\n",
    "    return browser.find_elements(By.XPATH, xpath)\n",
    "\n",
    "def find_id(e_id):\n",
    "    return browser.find_element(By.ID, e_id)\n",
    "\n",
    "def find_className(cn):\n",
    "    return browser.find_element(By.CLASS_NAME, cn)\n",
    "def find_linktext(lt):\n",
    "    return browser.find_element(By.LINK_TEXT, lt)"
   ]
  },
  {
   "cell_type": "code",
   "execution_count": 3,
   "id": "9593c175",
   "metadata": {},
   "outputs": [],
   "source": [
    "options = webdriver.ChromeOptions()\n",
    "options.add_argument('--no--sandbox')\n",
    "options.add_argument('no-sandbox')\n",
    "options.add_argument('--disable-dev-shm-usage')\n",
    "options.add_argument(\"--window-size=1080,800\")\n",
    "options.add_argument('incognito')\n",
    "# options.add_argument('headless')\n",
    "service = Service(ChromeDriverManager().install())\n",
    "browser = webdriver.Chrome(service=service, options=options)"
   ]
  },
  {
   "cell_type": "code",
   "execution_count": 4,
   "id": "6b3e2a2b",
   "metadata": {},
   "outputs": [],
   "source": [
    "keywords = [' 모래시계',\n",
    "' 거북선',\n",
    "' 방탄소년단',\n",
    "' 샤워',\n",
    "' 포장',\n",
    "' 한복',\n",
    "' 마루',\n",
    "' 간판',\n",
    "' 강도',\n",
    "' 만리장성',\n",
    "' 페인트',\n",
    "' 자매',\n",
    "' 공항',\n",
    "' 슈퍼마켓',\n",
    "' 에어팟',\n",
    "' 주유소',\n",
    "' 체조',\n",
    "' 댐',\n",
    "' 명함',\n",
    "' 차창',]"
   ]
  },
  {
   "cell_type": "code",
   "execution_count": 5,
   "id": "72722058",
   "metadata": {},
   "outputs": [
    {
     "name": "stdout",
     "output_type": "stream",
     "text": [
      "2,  모래시계\n",
      "3,  모래시계\n",
      "4,  모래시계\n",
      "<div class=\"c_prd_seller\"><a data-log-actionid-label=\"sellername\" data-log-body='{\"content_type\":\"SELLER\",\"content_no\":\"NzI1MTI1MjEyMTY\",\"link_url\":\"https://www.11st.co.kr/products/5339334601?trTypeCd=21&amp;trCtgrNo=585021\",\"position_l2\":\"2\",\"product_no\":\"5339334601\"}' rel=\"noreferrer\" target=\"_blank\"><span class=\"name\">세일러투</span></a></div>\n",
      "<div class=\"c_prd_seller\"><a data-log-actionid-label=\"sellername\" data-log-body='{\"content_type\":\"SELLER\",\"content_no\":\"NzI1MTI1MjEyMTY\",\"link_url\":\"https://www.11st.co.kr/products/5339325502?trTypeCd=21&amp;trCtgrNo=585021\",\"position_l2\":\"13\",\"product_no\":\"5339325502\"}' rel=\"noreferrer\" target=\"_blank\"><span class=\"name\">세일러투</span></a></div>\n",
      "<div class=\"c_prd_seller\"><a data-log-actionid-label=\"sellername\" data-log-body='{\"content_type\":\"SELLER\",\"content_no\":\"NzI1MTI1MjEyMTY\",\"link_url\":\"https://www.11st.co.kr/products/5339316365?trTypeCd=21&amp;trCtgrNo=585021\",\"position_l2\":\"59\",\"product_no\":\"5339316365\"}' rel=\"noreferrer\" target=\"_blank\"><span class=\"name\">세일러투</span></a></div>\n",
      "<div class=\"c_prd_seller\"><a data-log-actionid-label=\"sellername\" data-log-body='{\"content_type\":\"SELLER\",\"content_no\":\"NzI1MTI1MjEyMTY\",\"link_url\":\"https://www.11st.co.kr/products/5339304572?trTypeCd=21&amp;trCtgrNo=585021\",\"position_l2\":\"60\",\"product_no\":\"5339304572\"}' rel=\"noreferrer\" target=\"_blank\"><span class=\"name\">세일러투</span></a></div>\n",
      "<div class=\"c_prd_seller\"><a data-log-actionid-label=\"sellername\" data-log-body='{\"content_type\":\"SELLER\",\"content_no\":\"NzI1MTI1MjEyMTY\",\"link_url\":\"https://www.11st.co.kr/products/5339298713?trTypeCd=21&amp;trCtgrNo=585021\",\"position_l2\":\"61\",\"product_no\":\"5339298713\"}' rel=\"noreferrer\" target=\"_blank\"><span class=\"name\">세일러투</span></a></div>\n",
      "<div class=\"c_prd_seller\"><a data-log-actionid-label=\"sellername\" data-log-body='{\"content_type\":\"SELLER\",\"content_no\":\"NzI1MTI1MjEyMTY\",\"link_url\":\"https://www.11st.co.kr/products/5339294791?trTypeCd=21&amp;trCtgrNo=585021\",\"position_l2\":\"62\",\"product_no\":\"5339294791\"}' rel=\"noreferrer\" target=\"_blank\"><span class=\"name\">세일러투</span></a></div>\n",
      "<div class=\"c_prd_seller\"><a data-log-actionid-label=\"sellername\" data-log-body='{\"content_type\":\"SELLER\",\"content_no\":\"NzI1MTI1MjEyMTY\",\"link_url\":\"https://www.11st.co.kr/products/5339291714?trTypeCd=21&amp;trCtgrNo=585021\",\"position_l2\":\"63\",\"product_no\":\"5339291714\"}' rel=\"noreferrer\" target=\"_blank\"><span class=\"name\">세일러투</span></a></div>\n",
      "<div class=\"c_prd_seller\"><a data-log-actionid-label=\"sellername\" data-log-body='{\"content_type\":\"SELLER\",\"content_no\":\"NzI1MTI1MjEyMTY\",\"link_url\":\"https://www.11st.co.kr/products/5339331158?trTypeCd=21&amp;trCtgrNo=585021\",\"position_l2\":\"65\",\"product_no\":\"5339331158\"}' rel=\"noreferrer\" target=\"_blank\"><span class=\"name\">세일러투</span></a></div>\n",
      "<div class=\"c_prd_seller\"><a data-log-actionid-label=\"sellername\" data-log-body='{\"content_type\":\"SELLER\",\"content_no\":\"NzI1MTI1MjEyMTY\",\"link_url\":\"https://www.11st.co.kr/products/5339319647?trTypeCd=21&amp;trCtgrNo=585021\",\"position_l2\":\"66\",\"product_no\":\"5339319647\"}' rel=\"noreferrer\" target=\"_blank\"><span class=\"name\">세일러투</span></a></div>\n",
      "<div class=\"c_prd_seller\"><a data-log-actionid-label=\"sellername\" data-log-body='{\"content_type\":\"SELLER\",\"content_no\":\"NzI1MTI1MjEyMTY\",\"link_url\":\"https://www.11st.co.kr/products/5339310259?trTypeCd=21&amp;trCtgrNo=585021\",\"position_l2\":\"67\",\"product_no\":\"5339310259\"}' rel=\"noreferrer\" target=\"_blank\"><span class=\"name\">세일러투</span></a></div>\n",
      "<div class=\"c_prd_seller\"><a data-log-actionid-label=\"sellername\" data-log-body='{\"content_type\":\"SELLER\",\"content_no\":\"NzI1MTI1MjEyMTY\",\"link_url\":\"https://www.11st.co.kr/products/5339288569?trTypeCd=21&amp;trCtgrNo=585021\",\"position_l2\":\"68\",\"product_no\":\"5339288569\"}' rel=\"noreferrer\" target=\"_blank\"><span class=\"name\">세일러투</span></a></div>\n",
      "5,  모래시계\n",
      "6,  모래시계\n",
      "7,  모래시계\n",
      "8,  모래시계\n",
      "9,  모래시계\n",
      "10,  모래시계\n",
      "다음,  모래시계\n",
      "11, 1 if \n",
      "12,  모래시계\n",
      "13,  모래시계\n",
      "<div class=\"c_prd_seller\"><a data-log-actionid-label=\"sellername\" data-log-body='{\"content_type\":\"SELLER\",\"content_no\":\"Mjc5ODUwMzYyODg\",\"link_url\":\"https://www.11st.co.kr/products/5971122967?trTypeCd=21&amp;trCtgrNo=585021\",\"position_l2\":\"60\",\"product_no\":\"5971122967\"}' rel=\"noreferrer\" target=\"_blank\"><span class=\"name\">vk샵</span></a></div>\n",
      "<div class=\"c_prd_seller\"><a data-log-actionid-label=\"sellername\" data-log-body='{\"content_type\":\"SELLER\",\"content_no\":\"Mjc5ODUwMzYyODg\",\"link_url\":\"https://www.11st.co.kr/products/5971119018?trTypeCd=21&amp;trCtgrNo=585021\",\"position_l2\":\"61\",\"product_no\":\"5971119018\"}' rel=\"noreferrer\" target=\"_blank\"><span class=\"name\">vk샵</span></a></div>\n",
      "14,  모래시계\n",
      "<div class=\"c_prd_seller\"><a data-log-actionid-label=\"sellername\" data-log-body='{\"content_type\":\"SELLER\",\"content_no\":\"Mjc5ODUwMzYyODg\",\"link_url\":\"https://www.11st.co.kr/products/5971127006?trTypeCd=21&amp;trCtgrNo=585021\",\"position_l2\":\"18\",\"product_no\":\"5971127006\"}' rel=\"noreferrer\" target=\"_blank\"><span class=\"name\">vk샵</span></a></div>\n",
      "<div class=\"c_prd_seller\"><a data-log-actionid-label=\"sellername\" data-log-body='{\"content_type\":\"SELLER\",\"content_no\":\"Mjc5ODUwMzYyODg\",\"link_url\":\"https://www.11st.co.kr/products/5971156271?trTypeCd=21&amp;trCtgrNo=585021\",\"position_l2\":\"27\",\"product_no\":\"5971156271\"}' rel=\"noreferrer\" target=\"_blank\"><span class=\"name\">vk샵</span></a></div>\n",
      "<div class=\"c_prd_seller\"><a data-log-actionid-label=\"sellername\" data-log-body='{\"content_type\":\"SELLER\",\"content_no\":\"NTQyNTgxNTM0NzI\",\"link_url\":\"https://www.11st.co.kr/products/5971133229?trTypeCd=21&amp;trCtgrNo=585021\",\"position_l2\":\"28\",\"product_no\":\"5971133229\"}' rel=\"noreferrer\" target=\"_blank\"><span class=\"name\">힘찬문방구</span></a></div>\n",
      "<div class=\"c_prd_seller\"><a data-log-actionid-label=\"sellername\" data-log-body='{\"content_type\":\"SELLER\",\"content_no\":\"Mjc5ODUwMzYyODg\",\"link_url\":\"https://www.11st.co.kr/products/5971122908?trTypeCd=21&amp;trCtgrNo=585021\",\"position_l2\":\"29\",\"product_no\":\"5971122908\"}' rel=\"noreferrer\" target=\"_blank\"><span class=\"name\">vk샵</span></a></div>\n",
      "<div class=\"c_prd_seller\"><a data-log-actionid-label=\"sellername\" data-log-body='{\"content_type\":\"SELLER\",\"content_no\":\"Mjc5ODUwMzYyODg\",\"link_url\":\"https://www.11st.co.kr/products/5971111053?trTypeCd=21&amp;trCtgrNo=585021\",\"position_l2\":\"30\",\"product_no\":\"5971111053\"}' rel=\"noreferrer\" target=\"_blank\"><span class=\"name\">vk샵</span></a></div>\n",
      "<div class=\"c_prd_seller\"><a data-log-actionid-label=\"sellername\" data-log-body='{\"content_type\":\"SELLER\",\"content_no\":\"Mjc5ODUwMzYyODg\",\"link_url\":\"https://www.11st.co.kr/products/5971063505?trTypeCd=21&amp;trCtgrNo=585021\",\"position_l2\":\"75\",\"product_no\":\"5971063505\"}' rel=\"noreferrer\" target=\"_blank\"><span class=\"name\">vk샵</span></a></div>\n",
      "<div class=\"c_prd_seller\"><a data-log-actionid-label=\"sellername\" data-log-body='{\"content_type\":\"SELLER\",\"content_no\":\"Mjc5ODUwMzYyODg\",\"link_url\":\"https://www.11st.co.kr/products/5971056252?trTypeCd=21&amp;trCtgrNo=585021\",\"position_l2\":\"76\",\"product_no\":\"5971056252\"}' rel=\"noreferrer\" target=\"_blank\"><span class=\"name\">vk샵</span></a></div>\n",
      "<div class=\"c_prd_seller\"><a data-log-actionid-label=\"sellername\" data-log-body='{\"content_type\":\"SELLER\",\"content_no\":\"Mjc5ODUwMzYyODg\",\"link_url\":\"https://www.11st.co.kr/products/5971023302?trTypeCd=21&amp;trCtgrNo=585021\",\"position_l2\":\"77\",\"product_no\":\"5971023302\"}' rel=\"noreferrer\" target=\"_blank\"><span class=\"name\">vk샵</span></a></div>\n",
      "15,  모래시계\n",
      "<div class=\"c_prd_seller\"><a data-log-actionid-label=\"sellername\" data-log-body='{\"content_type\":\"SELLER\",\"content_no\":\"Mjc5ODUwMzYyODg\",\"link_url\":\"https://www.11st.co.kr/products/5970947520?trTypeCd=21&amp;trCtgrNo=585021\",\"position_l2\":\"51\",\"product_no\":\"5970947520\"}' rel=\"noreferrer\" target=\"_blank\"><span class=\"name\">vk샵</span></a></div>\n",
      "<div class=\"c_prd_seller\"><a data-log-actionid-label=\"sellername\" data-log-body='{\"content_type\":\"SELLER\",\"content_no\":\"Mjc5ODUwMzYyODg\",\"link_url\":\"https://www.11st.co.kr/products/5970884438?trTypeCd=21&amp;trCtgrNo=585021\",\"position_l2\":\"66\",\"product_no\":\"5970884438\"}' rel=\"noreferrer\" target=\"_blank\"><span class=\"name\">vk샵</span></a></div>\n",
      "16,  모래시계\n",
      "17,  모래시계\n",
      "18,  모래시계\n",
      "19,  모래시계\n",
      "20,  모래시계\n",
      "다음,  모래시계\n",
      "21, 2 if \n",
      "21,  모래시계\n",
      "22,  모래시계\n",
      "23,  모래시계\n",
      "24,  모래시계\n"
     ]
    },
    {
     "name": "stdout",
     "output_type": "stream",
     "text": [
      "25,  모래시계\n"
     ]
    },
    {
     "ename": "ProtocolError",
     "evalue": "('Connection aborted.', ConnectionResetError(10054, '현재 연결은 원격 호스트에 의해 강제로 끊겼습니다', None, 10054, None))",
     "output_type": "error",
     "traceback": [
      "\u001b[1;31m---------------------------------------------------------------------------\u001b[0m",
      "\u001b[1;31mConnectionResetError\u001b[0m                      Traceback (most recent call last)",
      "File \u001b[1;32m~\\anaconda3\\lib\\site-packages\\urllib3\\connectionpool.py:714\u001b[0m, in \u001b[0;36mHTTPConnectionPool.urlopen\u001b[1;34m(self, method, url, body, headers, retries, redirect, assert_same_host, timeout, pool_timeout, release_conn, chunked, body_pos, **response_kw)\u001b[0m\n\u001b[0;32m    713\u001b[0m \u001b[38;5;66;03m# Make the request on the httplib connection object.\u001b[39;00m\n\u001b[1;32m--> 714\u001b[0m httplib_response \u001b[38;5;241m=\u001b[39m \u001b[38;5;28;43mself\u001b[39;49m\u001b[38;5;241;43m.\u001b[39;49m\u001b[43m_make_request\u001b[49m\u001b[43m(\u001b[49m\n\u001b[0;32m    715\u001b[0m \u001b[43m    \u001b[49m\u001b[43mconn\u001b[49m\u001b[43m,\u001b[49m\n\u001b[0;32m    716\u001b[0m \u001b[43m    \u001b[49m\u001b[43mmethod\u001b[49m\u001b[43m,\u001b[49m\n\u001b[0;32m    717\u001b[0m \u001b[43m    \u001b[49m\u001b[43murl\u001b[49m\u001b[43m,\u001b[49m\n\u001b[0;32m    718\u001b[0m \u001b[43m    \u001b[49m\u001b[43mtimeout\u001b[49m\u001b[38;5;241;43m=\u001b[39;49m\u001b[43mtimeout_obj\u001b[49m\u001b[43m,\u001b[49m\n\u001b[0;32m    719\u001b[0m \u001b[43m    \u001b[49m\u001b[43mbody\u001b[49m\u001b[38;5;241;43m=\u001b[39;49m\u001b[43mbody\u001b[49m\u001b[43m,\u001b[49m\n\u001b[0;32m    720\u001b[0m \u001b[43m    \u001b[49m\u001b[43mheaders\u001b[49m\u001b[38;5;241;43m=\u001b[39;49m\u001b[43mheaders\u001b[49m\u001b[43m,\u001b[49m\n\u001b[0;32m    721\u001b[0m \u001b[43m    \u001b[49m\u001b[43mchunked\u001b[49m\u001b[38;5;241;43m=\u001b[39;49m\u001b[43mchunked\u001b[49m\u001b[43m,\u001b[49m\n\u001b[0;32m    722\u001b[0m \u001b[43m\u001b[49m\u001b[43m)\u001b[49m\n\u001b[0;32m    724\u001b[0m \u001b[38;5;66;03m# If we're going to release the connection in ``finally:``, then\u001b[39;00m\n\u001b[0;32m    725\u001b[0m \u001b[38;5;66;03m# the response doesn't need to know about the connection. Otherwise\u001b[39;00m\n\u001b[0;32m    726\u001b[0m \u001b[38;5;66;03m# it will also try to release it and we'll have a double-release\u001b[39;00m\n\u001b[0;32m    727\u001b[0m \u001b[38;5;66;03m# mess.\u001b[39;00m\n",
      "File \u001b[1;32m~\\anaconda3\\lib\\site-packages\\urllib3\\connectionpool.py:466\u001b[0m, in \u001b[0;36mHTTPConnectionPool._make_request\u001b[1;34m(self, conn, method, url, timeout, chunked, **httplib_request_kw)\u001b[0m\n\u001b[0;32m    462\u001b[0m         \u001b[38;5;28;01mexcept\u001b[39;00m \u001b[38;5;167;01mBaseException\u001b[39;00m \u001b[38;5;28;01mas\u001b[39;00m e:\n\u001b[0;32m    463\u001b[0m             \u001b[38;5;66;03m# Remove the TypeError from the exception chain in\u001b[39;00m\n\u001b[0;32m    464\u001b[0m             \u001b[38;5;66;03m# Python 3 (including for exceptions like SystemExit).\u001b[39;00m\n\u001b[0;32m    465\u001b[0m             \u001b[38;5;66;03m# Otherwise it looks like a bug in the code.\u001b[39;00m\n\u001b[1;32m--> 466\u001b[0m             \u001b[43msix\u001b[49m\u001b[38;5;241;43m.\u001b[39;49m\u001b[43mraise_from\u001b[49m\u001b[43m(\u001b[49m\u001b[43me\u001b[49m\u001b[43m,\u001b[49m\u001b[43m \u001b[49m\u001b[38;5;28;43;01mNone\u001b[39;49;00m\u001b[43m)\u001b[49m\n\u001b[0;32m    467\u001b[0m \u001b[38;5;28;01mexcept\u001b[39;00m (SocketTimeout, BaseSSLError, SocketError) \u001b[38;5;28;01mas\u001b[39;00m e:\n",
      "File \u001b[1;32m<string>:3\u001b[0m, in \u001b[0;36mraise_from\u001b[1;34m(value, from_value)\u001b[0m\n",
      "File \u001b[1;32m~\\anaconda3\\lib\\site-packages\\urllib3\\connectionpool.py:461\u001b[0m, in \u001b[0;36mHTTPConnectionPool._make_request\u001b[1;34m(self, conn, method, url, timeout, chunked, **httplib_request_kw)\u001b[0m\n\u001b[0;32m    460\u001b[0m \u001b[38;5;28;01mtry\u001b[39;00m:\n\u001b[1;32m--> 461\u001b[0m     httplib_response \u001b[38;5;241m=\u001b[39m \u001b[43mconn\u001b[49m\u001b[38;5;241;43m.\u001b[39;49m\u001b[43mgetresponse\u001b[49m\u001b[43m(\u001b[49m\u001b[43m)\u001b[49m\n\u001b[0;32m    462\u001b[0m \u001b[38;5;28;01mexcept\u001b[39;00m \u001b[38;5;167;01mBaseException\u001b[39;00m \u001b[38;5;28;01mas\u001b[39;00m e:\n\u001b[0;32m    463\u001b[0m     \u001b[38;5;66;03m# Remove the TypeError from the exception chain in\u001b[39;00m\n\u001b[0;32m    464\u001b[0m     \u001b[38;5;66;03m# Python 3 (including for exceptions like SystemExit).\u001b[39;00m\n\u001b[0;32m    465\u001b[0m     \u001b[38;5;66;03m# Otherwise it looks like a bug in the code.\u001b[39;00m\n",
      "File \u001b[1;32m~\\anaconda3\\lib\\http\\client.py:1374\u001b[0m, in \u001b[0;36mHTTPConnection.getresponse\u001b[1;34m(self)\u001b[0m\n\u001b[0;32m   1373\u001b[0m \u001b[38;5;28;01mtry\u001b[39;00m:\n\u001b[1;32m-> 1374\u001b[0m     \u001b[43mresponse\u001b[49m\u001b[38;5;241;43m.\u001b[39;49m\u001b[43mbegin\u001b[49m\u001b[43m(\u001b[49m\u001b[43m)\u001b[49m\n\u001b[0;32m   1375\u001b[0m \u001b[38;5;28;01mexcept\u001b[39;00m \u001b[38;5;167;01mConnectionError\u001b[39;00m:\n",
      "File \u001b[1;32m~\\anaconda3\\lib\\http\\client.py:318\u001b[0m, in \u001b[0;36mHTTPResponse.begin\u001b[1;34m(self)\u001b[0m\n\u001b[0;32m    317\u001b[0m \u001b[38;5;28;01mwhile\u001b[39;00m \u001b[38;5;28;01mTrue\u001b[39;00m:\n\u001b[1;32m--> 318\u001b[0m     version, status, reason \u001b[38;5;241m=\u001b[39m \u001b[38;5;28;43mself\u001b[39;49m\u001b[38;5;241;43m.\u001b[39;49m\u001b[43m_read_status\u001b[49m\u001b[43m(\u001b[49m\u001b[43m)\u001b[49m\n\u001b[0;32m    319\u001b[0m     \u001b[38;5;28;01mif\u001b[39;00m status \u001b[38;5;241m!=\u001b[39m CONTINUE:\n",
      "File \u001b[1;32m~\\anaconda3\\lib\\http\\client.py:279\u001b[0m, in \u001b[0;36mHTTPResponse._read_status\u001b[1;34m(self)\u001b[0m\n\u001b[0;32m    278\u001b[0m \u001b[38;5;28;01mdef\u001b[39;00m \u001b[38;5;21m_read_status\u001b[39m(\u001b[38;5;28mself\u001b[39m):\n\u001b[1;32m--> 279\u001b[0m     line \u001b[38;5;241m=\u001b[39m \u001b[38;5;28mstr\u001b[39m(\u001b[38;5;28;43mself\u001b[39;49m\u001b[38;5;241;43m.\u001b[39;49m\u001b[43mfp\u001b[49m\u001b[38;5;241;43m.\u001b[39;49m\u001b[43mreadline\u001b[49m\u001b[43m(\u001b[49m\u001b[43m_MAXLINE\u001b[49m\u001b[43m \u001b[49m\u001b[38;5;241;43m+\u001b[39;49m\u001b[43m \u001b[49m\u001b[38;5;241;43m1\u001b[39;49m\u001b[43m)\u001b[49m, \u001b[38;5;124m\"\u001b[39m\u001b[38;5;124miso-8859-1\u001b[39m\u001b[38;5;124m\"\u001b[39m)\n\u001b[0;32m    280\u001b[0m     \u001b[38;5;28;01mif\u001b[39;00m \u001b[38;5;28mlen\u001b[39m(line) \u001b[38;5;241m>\u001b[39m _MAXLINE:\n",
      "File \u001b[1;32m~\\anaconda3\\lib\\socket.py:705\u001b[0m, in \u001b[0;36mSocketIO.readinto\u001b[1;34m(self, b)\u001b[0m\n\u001b[0;32m    704\u001b[0m \u001b[38;5;28;01mtry\u001b[39;00m:\n\u001b[1;32m--> 705\u001b[0m     \u001b[38;5;28;01mreturn\u001b[39;00m \u001b[38;5;28;43mself\u001b[39;49m\u001b[38;5;241;43m.\u001b[39;49m\u001b[43m_sock\u001b[49m\u001b[38;5;241;43m.\u001b[39;49m\u001b[43mrecv_into\u001b[49m\u001b[43m(\u001b[49m\u001b[43mb\u001b[49m\u001b[43m)\u001b[49m\n\u001b[0;32m    706\u001b[0m \u001b[38;5;28;01mexcept\u001b[39;00m timeout:\n",
      "\u001b[1;31mConnectionResetError\u001b[0m: [WinError 10054] 현재 연결은 원격 호스트에 의해 강제로 끊겼습니다",
      "\nDuring handling of the above exception, another exception occurred:\n",
      "\u001b[1;31mProtocolError\u001b[0m                             Traceback (most recent call last)",
      "Cell \u001b[1;32mIn[5], line 49\u001b[0m\n\u001b[0;32m     47\u001b[0m \u001b[38;5;28;01mfor\u001b[39;00m i \u001b[38;5;129;01min\u001b[39;00m seller_page_hrefs:\n\u001b[0;32m     48\u001b[0m     \u001b[38;5;28;01mif\u001b[39;00m pass_url \u001b[38;5;129;01min\u001b[39;00m i: \u001b[38;5;28;01mcontinue\u001b[39;00m\n\u001b[1;32m---> 49\u001b[0m     \u001b[43mbrowser\u001b[49m\u001b[38;5;241;43m.\u001b[39;49m\u001b[43mget\u001b[49m\u001b[43m(\u001b[49m\u001b[43mi\u001b[49m\u001b[43m)\u001b[49m    \n\u001b[0;32m     50\u001b[0m     time\u001b[38;5;241m.\u001b[39msleep(\u001b[38;5;241m0.5\u001b[39m)\n\u001b[0;32m     51\u001b[0m     \u001b[38;5;28;01mtry\u001b[39;00m:\n",
      "File \u001b[1;32m~\\anaconda3\\lib\\site-packages\\selenium\\webdriver\\remote\\webdriver.py:355\u001b[0m, in \u001b[0;36mWebDriver.get\u001b[1;34m(self, url)\u001b[0m\n\u001b[0;32m    353\u001b[0m \u001b[38;5;28;01mdef\u001b[39;00m \u001b[38;5;21mget\u001b[39m(\u001b[38;5;28mself\u001b[39m, url: \u001b[38;5;28mstr\u001b[39m) \u001b[38;5;241m-\u001b[39m\u001b[38;5;241m>\u001b[39m \u001b[38;5;28;01mNone\u001b[39;00m:\n\u001b[0;32m    354\u001b[0m     \u001b[38;5;124;03m\"\"\"Loads a web page in the current browser session.\"\"\"\u001b[39;00m\n\u001b[1;32m--> 355\u001b[0m     \u001b[38;5;28;43mself\u001b[39;49m\u001b[38;5;241;43m.\u001b[39;49m\u001b[43mexecute\u001b[49m\u001b[43m(\u001b[49m\u001b[43mCommand\u001b[49m\u001b[38;5;241;43m.\u001b[39;49m\u001b[43mGET\u001b[49m\u001b[43m,\u001b[49m\u001b[43m \u001b[49m\u001b[43m{\u001b[49m\u001b[38;5;124;43m\"\u001b[39;49m\u001b[38;5;124;43murl\u001b[39;49m\u001b[38;5;124;43m\"\u001b[39;49m\u001b[43m:\u001b[49m\u001b[43m \u001b[49m\u001b[43murl\u001b[49m\u001b[43m}\u001b[49m\u001b[43m)\u001b[49m\n",
      "File \u001b[1;32m~\\anaconda3\\lib\\site-packages\\selenium\\webdriver\\remote\\webdriver.py:344\u001b[0m, in \u001b[0;36mWebDriver.execute\u001b[1;34m(self, driver_command, params)\u001b[0m\n\u001b[0;32m    341\u001b[0m     \u001b[38;5;28;01melif\u001b[39;00m \u001b[38;5;124m\"\u001b[39m\u001b[38;5;124msessionId\u001b[39m\u001b[38;5;124m\"\u001b[39m \u001b[38;5;129;01mnot\u001b[39;00m \u001b[38;5;129;01min\u001b[39;00m params:\n\u001b[0;32m    342\u001b[0m         params[\u001b[38;5;124m\"\u001b[39m\u001b[38;5;124msessionId\u001b[39m\u001b[38;5;124m\"\u001b[39m] \u001b[38;5;241m=\u001b[39m \u001b[38;5;28mself\u001b[39m\u001b[38;5;241m.\u001b[39msession_id\n\u001b[1;32m--> 344\u001b[0m response \u001b[38;5;241m=\u001b[39m \u001b[38;5;28;43mself\u001b[39;49m\u001b[38;5;241;43m.\u001b[39;49m\u001b[43mcommand_executor\u001b[49m\u001b[38;5;241;43m.\u001b[39;49m\u001b[43mexecute\u001b[49m\u001b[43m(\u001b[49m\u001b[43mdriver_command\u001b[49m\u001b[43m,\u001b[49m\u001b[43m \u001b[49m\u001b[43mparams\u001b[49m\u001b[43m)\u001b[49m\n\u001b[0;32m    345\u001b[0m \u001b[38;5;28;01mif\u001b[39;00m response:\n\u001b[0;32m    346\u001b[0m     \u001b[38;5;28mself\u001b[39m\u001b[38;5;241m.\u001b[39merror_handler\u001b[38;5;241m.\u001b[39mcheck_response(response)\n",
      "File \u001b[1;32m~\\anaconda3\\lib\\site-packages\\selenium\\webdriver\\remote\\remote_connection.py:290\u001b[0m, in \u001b[0;36mRemoteConnection.execute\u001b[1;34m(self, command, params)\u001b[0m\n\u001b[0;32m    288\u001b[0m data \u001b[38;5;241m=\u001b[39m utils\u001b[38;5;241m.\u001b[39mdump_json(params)\n\u001b[0;32m    289\u001b[0m url \u001b[38;5;241m=\u001b[39m \u001b[38;5;124mf\u001b[39m\u001b[38;5;124m\"\u001b[39m\u001b[38;5;132;01m{\u001b[39;00m\u001b[38;5;28mself\u001b[39m\u001b[38;5;241m.\u001b[39m_url\u001b[38;5;132;01m}\u001b[39;00m\u001b[38;5;132;01m{\u001b[39;00mpath\u001b[38;5;132;01m}\u001b[39;00m\u001b[38;5;124m\"\u001b[39m\n\u001b[1;32m--> 290\u001b[0m \u001b[38;5;28;01mreturn\u001b[39;00m \u001b[38;5;28;43mself\u001b[39;49m\u001b[38;5;241;43m.\u001b[39;49m\u001b[43m_request\u001b[49m\u001b[43m(\u001b[49m\u001b[43mcommand_info\u001b[49m\u001b[43m[\u001b[49m\u001b[38;5;241;43m0\u001b[39;49m\u001b[43m]\u001b[49m\u001b[43m,\u001b[49m\u001b[43m \u001b[49m\u001b[43murl\u001b[49m\u001b[43m,\u001b[49m\u001b[43m \u001b[49m\u001b[43mbody\u001b[49m\u001b[38;5;241;43m=\u001b[39;49m\u001b[43mdata\u001b[49m\u001b[43m)\u001b[49m\n",
      "File \u001b[1;32m~\\anaconda3\\lib\\site-packages\\selenium\\webdriver\\remote\\remote_connection.py:311\u001b[0m, in \u001b[0;36mRemoteConnection._request\u001b[1;34m(self, method, url, body)\u001b[0m\n\u001b[0;32m    308\u001b[0m     body \u001b[38;5;241m=\u001b[39m \u001b[38;5;28;01mNone\u001b[39;00m\n\u001b[0;32m    310\u001b[0m \u001b[38;5;28;01mif\u001b[39;00m \u001b[38;5;28mself\u001b[39m\u001b[38;5;241m.\u001b[39mkeep_alive:\n\u001b[1;32m--> 311\u001b[0m     response \u001b[38;5;241m=\u001b[39m \u001b[38;5;28;43mself\u001b[39;49m\u001b[38;5;241;43m.\u001b[39;49m\u001b[43m_conn\u001b[49m\u001b[38;5;241;43m.\u001b[39;49m\u001b[43mrequest\u001b[49m\u001b[43m(\u001b[49m\u001b[43mmethod\u001b[49m\u001b[43m,\u001b[49m\u001b[43m \u001b[49m\u001b[43murl\u001b[49m\u001b[43m,\u001b[49m\u001b[43m \u001b[49m\u001b[43mbody\u001b[49m\u001b[38;5;241;43m=\u001b[39;49m\u001b[43mbody\u001b[49m\u001b[43m,\u001b[49m\u001b[43m \u001b[49m\u001b[43mheaders\u001b[49m\u001b[38;5;241;43m=\u001b[39;49m\u001b[43mheaders\u001b[49m\u001b[43m)\u001b[49m\n\u001b[0;32m    312\u001b[0m     statuscode \u001b[38;5;241m=\u001b[39m response\u001b[38;5;241m.\u001b[39mstatus\n\u001b[0;32m    313\u001b[0m \u001b[38;5;28;01melse\u001b[39;00m:\n",
      "File \u001b[1;32m~\\anaconda3\\lib\\site-packages\\urllib3\\request.py:78\u001b[0m, in \u001b[0;36mRequestMethods.request\u001b[1;34m(self, method, url, fields, headers, **urlopen_kw)\u001b[0m\n\u001b[0;32m     74\u001b[0m     \u001b[38;5;28;01mreturn\u001b[39;00m \u001b[38;5;28mself\u001b[39m\u001b[38;5;241m.\u001b[39mrequest_encode_url(\n\u001b[0;32m     75\u001b[0m         method, url, fields\u001b[38;5;241m=\u001b[39mfields, headers\u001b[38;5;241m=\u001b[39mheaders, \u001b[38;5;241m*\u001b[39m\u001b[38;5;241m*\u001b[39murlopen_kw\n\u001b[0;32m     76\u001b[0m     )\n\u001b[0;32m     77\u001b[0m \u001b[38;5;28;01melse\u001b[39;00m:\n\u001b[1;32m---> 78\u001b[0m     \u001b[38;5;28;01mreturn\u001b[39;00m \u001b[38;5;28mself\u001b[39m\u001b[38;5;241m.\u001b[39mrequest_encode_body(\n\u001b[0;32m     79\u001b[0m         method, url, fields\u001b[38;5;241m=\u001b[39mfields, headers\u001b[38;5;241m=\u001b[39mheaders, \u001b[38;5;241m*\u001b[39m\u001b[38;5;241m*\u001b[39murlopen_kw\n\u001b[0;32m     80\u001b[0m     )\n",
      "File \u001b[1;32m~\\anaconda3\\lib\\site-packages\\urllib3\\request.py:170\u001b[0m, in \u001b[0;36mRequestMethods.request_encode_body\u001b[1;34m(self, method, url, fields, headers, encode_multipart, multipart_boundary, **urlopen_kw)\u001b[0m\n\u001b[0;32m    167\u001b[0m extra_kw[\u001b[38;5;124m\"\u001b[39m\u001b[38;5;124mheaders\u001b[39m\u001b[38;5;124m\"\u001b[39m]\u001b[38;5;241m.\u001b[39mupdate(headers)\n\u001b[0;32m    168\u001b[0m extra_kw\u001b[38;5;241m.\u001b[39mupdate(urlopen_kw)\n\u001b[1;32m--> 170\u001b[0m \u001b[38;5;28;01mreturn\u001b[39;00m \u001b[38;5;28mself\u001b[39m\u001b[38;5;241m.\u001b[39murlopen(method, url, \u001b[38;5;241m*\u001b[39m\u001b[38;5;241m*\u001b[39mextra_kw)\n",
      "File \u001b[1;32m~\\anaconda3\\lib\\site-packages\\urllib3\\poolmanager.py:376\u001b[0m, in \u001b[0;36mPoolManager.urlopen\u001b[1;34m(self, method, url, redirect, **kw)\u001b[0m\n\u001b[0;32m    374\u001b[0m     response \u001b[38;5;241m=\u001b[39m conn\u001b[38;5;241m.\u001b[39murlopen(method, url, \u001b[38;5;241m*\u001b[39m\u001b[38;5;241m*\u001b[39mkw)\n\u001b[0;32m    375\u001b[0m \u001b[38;5;28;01melse\u001b[39;00m:\n\u001b[1;32m--> 376\u001b[0m     response \u001b[38;5;241m=\u001b[39m conn\u001b[38;5;241m.\u001b[39murlopen(method, u\u001b[38;5;241m.\u001b[39mrequest_uri, \u001b[38;5;241m*\u001b[39m\u001b[38;5;241m*\u001b[39mkw)\n\u001b[0;32m    378\u001b[0m redirect_location \u001b[38;5;241m=\u001b[39m redirect \u001b[38;5;129;01mand\u001b[39;00m response\u001b[38;5;241m.\u001b[39mget_redirect_location()\n\u001b[0;32m    379\u001b[0m \u001b[38;5;28;01mif\u001b[39;00m \u001b[38;5;129;01mnot\u001b[39;00m redirect_location:\n",
      "File \u001b[1;32m~\\anaconda3\\lib\\site-packages\\urllib3\\connectionpool.py:798\u001b[0m, in \u001b[0;36mHTTPConnectionPool.urlopen\u001b[1;34m(self, method, url, body, headers, retries, redirect, assert_same_host, timeout, pool_timeout, release_conn, chunked, body_pos, **response_kw)\u001b[0m\n\u001b[0;32m    795\u001b[0m \u001b[38;5;28;01melif\u001b[39;00m \u001b[38;5;28misinstance\u001b[39m(e, (SocketError, HTTPException)):\n\u001b[0;32m    796\u001b[0m     e \u001b[38;5;241m=\u001b[39m ProtocolError(\u001b[38;5;124m\"\u001b[39m\u001b[38;5;124mConnection aborted.\u001b[39m\u001b[38;5;124m\"\u001b[39m, e)\n\u001b[1;32m--> 798\u001b[0m retries \u001b[38;5;241m=\u001b[39m \u001b[43mretries\u001b[49m\u001b[38;5;241;43m.\u001b[39;49m\u001b[43mincrement\u001b[49m\u001b[43m(\u001b[49m\n\u001b[0;32m    799\u001b[0m \u001b[43m    \u001b[49m\u001b[43mmethod\u001b[49m\u001b[43m,\u001b[49m\u001b[43m \u001b[49m\u001b[43murl\u001b[49m\u001b[43m,\u001b[49m\u001b[43m \u001b[49m\u001b[43merror\u001b[49m\u001b[38;5;241;43m=\u001b[39;49m\u001b[43me\u001b[49m\u001b[43m,\u001b[49m\u001b[43m \u001b[49m\u001b[43m_pool\u001b[49m\u001b[38;5;241;43m=\u001b[39;49m\u001b[38;5;28;43mself\u001b[39;49m\u001b[43m,\u001b[49m\u001b[43m \u001b[49m\u001b[43m_stacktrace\u001b[49m\u001b[38;5;241;43m=\u001b[39;49m\u001b[43msys\u001b[49m\u001b[38;5;241;43m.\u001b[39;49m\u001b[43mexc_info\u001b[49m\u001b[43m(\u001b[49m\u001b[43m)\u001b[49m\u001b[43m[\u001b[49m\u001b[38;5;241;43m2\u001b[39;49m\u001b[43m]\u001b[49m\n\u001b[0;32m    800\u001b[0m \u001b[43m\u001b[49m\u001b[43m)\u001b[49m\n\u001b[0;32m    801\u001b[0m retries\u001b[38;5;241m.\u001b[39msleep()\n\u001b[0;32m    803\u001b[0m \u001b[38;5;66;03m# Keep track of the error for the retry warning.\u001b[39;00m\n",
      "File \u001b[1;32m~\\anaconda3\\lib\\site-packages\\urllib3\\util\\retry.py:550\u001b[0m, in \u001b[0;36mRetry.increment\u001b[1;34m(self, method, url, response, error, _pool, _stacktrace)\u001b[0m\n\u001b[0;32m    547\u001b[0m \u001b[38;5;28;01melif\u001b[39;00m error \u001b[38;5;129;01mand\u001b[39;00m \u001b[38;5;28mself\u001b[39m\u001b[38;5;241m.\u001b[39m_is_read_error(error):\n\u001b[0;32m    548\u001b[0m     \u001b[38;5;66;03m# Read retry?\u001b[39;00m\n\u001b[0;32m    549\u001b[0m     \u001b[38;5;28;01mif\u001b[39;00m read \u001b[38;5;129;01mis\u001b[39;00m \u001b[38;5;28;01mFalse\u001b[39;00m \u001b[38;5;129;01mor\u001b[39;00m \u001b[38;5;129;01mnot\u001b[39;00m \u001b[38;5;28mself\u001b[39m\u001b[38;5;241m.\u001b[39m_is_method_retryable(method):\n\u001b[1;32m--> 550\u001b[0m         \u001b[38;5;28;01mraise\u001b[39;00m \u001b[43msix\u001b[49m\u001b[38;5;241;43m.\u001b[39;49m\u001b[43mreraise\u001b[49m\u001b[43m(\u001b[49m\u001b[38;5;28;43mtype\u001b[39;49m\u001b[43m(\u001b[49m\u001b[43merror\u001b[49m\u001b[43m)\u001b[49m\u001b[43m,\u001b[49m\u001b[43m \u001b[49m\u001b[43merror\u001b[49m\u001b[43m,\u001b[49m\u001b[43m \u001b[49m\u001b[43m_stacktrace\u001b[49m\u001b[43m)\u001b[49m\n\u001b[0;32m    551\u001b[0m     \u001b[38;5;28;01melif\u001b[39;00m read \u001b[38;5;129;01mis\u001b[39;00m \u001b[38;5;129;01mnot\u001b[39;00m \u001b[38;5;28;01mNone\u001b[39;00m:\n\u001b[0;32m    552\u001b[0m         read \u001b[38;5;241m-\u001b[39m\u001b[38;5;241m=\u001b[39m \u001b[38;5;241m1\u001b[39m\n",
      "File \u001b[1;32m~\\anaconda3\\lib\\site-packages\\urllib3\\packages\\six.py:769\u001b[0m, in \u001b[0;36mreraise\u001b[1;34m(tp, value, tb)\u001b[0m\n\u001b[0;32m    767\u001b[0m         value \u001b[38;5;241m=\u001b[39m tp()\n\u001b[0;32m    768\u001b[0m     \u001b[38;5;28;01mif\u001b[39;00m value\u001b[38;5;241m.\u001b[39m__traceback__ \u001b[38;5;129;01mis\u001b[39;00m \u001b[38;5;129;01mnot\u001b[39;00m tb:\n\u001b[1;32m--> 769\u001b[0m         \u001b[38;5;28;01mraise\u001b[39;00m value\u001b[38;5;241m.\u001b[39mwith_traceback(tb)\n\u001b[0;32m    770\u001b[0m     \u001b[38;5;28;01mraise\u001b[39;00m value\n\u001b[0;32m    771\u001b[0m \u001b[38;5;28;01mfinally\u001b[39;00m:\n",
      "File \u001b[1;32m~\\anaconda3\\lib\\site-packages\\urllib3\\connectionpool.py:714\u001b[0m, in \u001b[0;36mHTTPConnectionPool.urlopen\u001b[1;34m(self, method, url, body, headers, retries, redirect, assert_same_host, timeout, pool_timeout, release_conn, chunked, body_pos, **response_kw)\u001b[0m\n\u001b[0;32m    711\u001b[0m     \u001b[38;5;28mself\u001b[39m\u001b[38;5;241m.\u001b[39m_prepare_proxy(conn)\n\u001b[0;32m    713\u001b[0m \u001b[38;5;66;03m# Make the request on the httplib connection object.\u001b[39;00m\n\u001b[1;32m--> 714\u001b[0m httplib_response \u001b[38;5;241m=\u001b[39m \u001b[38;5;28;43mself\u001b[39;49m\u001b[38;5;241;43m.\u001b[39;49m\u001b[43m_make_request\u001b[49m\u001b[43m(\u001b[49m\n\u001b[0;32m    715\u001b[0m \u001b[43m    \u001b[49m\u001b[43mconn\u001b[49m\u001b[43m,\u001b[49m\n\u001b[0;32m    716\u001b[0m \u001b[43m    \u001b[49m\u001b[43mmethod\u001b[49m\u001b[43m,\u001b[49m\n\u001b[0;32m    717\u001b[0m \u001b[43m    \u001b[49m\u001b[43murl\u001b[49m\u001b[43m,\u001b[49m\n\u001b[0;32m    718\u001b[0m \u001b[43m    \u001b[49m\u001b[43mtimeout\u001b[49m\u001b[38;5;241;43m=\u001b[39;49m\u001b[43mtimeout_obj\u001b[49m\u001b[43m,\u001b[49m\n\u001b[0;32m    719\u001b[0m \u001b[43m    \u001b[49m\u001b[43mbody\u001b[49m\u001b[38;5;241;43m=\u001b[39;49m\u001b[43mbody\u001b[49m\u001b[43m,\u001b[49m\n\u001b[0;32m    720\u001b[0m \u001b[43m    \u001b[49m\u001b[43mheaders\u001b[49m\u001b[38;5;241;43m=\u001b[39;49m\u001b[43mheaders\u001b[49m\u001b[43m,\u001b[49m\n\u001b[0;32m    721\u001b[0m \u001b[43m    \u001b[49m\u001b[43mchunked\u001b[49m\u001b[38;5;241;43m=\u001b[39;49m\u001b[43mchunked\u001b[49m\u001b[43m,\u001b[49m\n\u001b[0;32m    722\u001b[0m \u001b[43m\u001b[49m\u001b[43m)\u001b[49m\n\u001b[0;32m    724\u001b[0m \u001b[38;5;66;03m# If we're going to release the connection in ``finally:``, then\u001b[39;00m\n\u001b[0;32m    725\u001b[0m \u001b[38;5;66;03m# the response doesn't need to know about the connection. Otherwise\u001b[39;00m\n\u001b[0;32m    726\u001b[0m \u001b[38;5;66;03m# it will also try to release it and we'll have a double-release\u001b[39;00m\n\u001b[0;32m    727\u001b[0m \u001b[38;5;66;03m# mess.\u001b[39;00m\n\u001b[0;32m    728\u001b[0m response_conn \u001b[38;5;241m=\u001b[39m conn \u001b[38;5;28;01mif\u001b[39;00m \u001b[38;5;129;01mnot\u001b[39;00m release_conn \u001b[38;5;28;01melse\u001b[39;00m \u001b[38;5;28;01mNone\u001b[39;00m\n",
      "File \u001b[1;32m~\\anaconda3\\lib\\site-packages\\urllib3\\connectionpool.py:466\u001b[0m, in \u001b[0;36mHTTPConnectionPool._make_request\u001b[1;34m(self, conn, method, url, timeout, chunked, **httplib_request_kw)\u001b[0m\n\u001b[0;32m    461\u001b[0m             httplib_response \u001b[38;5;241m=\u001b[39m conn\u001b[38;5;241m.\u001b[39mgetresponse()\n\u001b[0;32m    462\u001b[0m         \u001b[38;5;28;01mexcept\u001b[39;00m \u001b[38;5;167;01mBaseException\u001b[39;00m \u001b[38;5;28;01mas\u001b[39;00m e:\n\u001b[0;32m    463\u001b[0m             \u001b[38;5;66;03m# Remove the TypeError from the exception chain in\u001b[39;00m\n\u001b[0;32m    464\u001b[0m             \u001b[38;5;66;03m# Python 3 (including for exceptions like SystemExit).\u001b[39;00m\n\u001b[0;32m    465\u001b[0m             \u001b[38;5;66;03m# Otherwise it looks like a bug in the code.\u001b[39;00m\n\u001b[1;32m--> 466\u001b[0m             \u001b[43msix\u001b[49m\u001b[38;5;241;43m.\u001b[39;49m\u001b[43mraise_from\u001b[49m\u001b[43m(\u001b[49m\u001b[43me\u001b[49m\u001b[43m,\u001b[49m\u001b[43m \u001b[49m\u001b[38;5;28;43;01mNone\u001b[39;49;00m\u001b[43m)\u001b[49m\n\u001b[0;32m    467\u001b[0m \u001b[38;5;28;01mexcept\u001b[39;00m (SocketTimeout, BaseSSLError, SocketError) \u001b[38;5;28;01mas\u001b[39;00m e:\n\u001b[0;32m    468\u001b[0m     \u001b[38;5;28mself\u001b[39m\u001b[38;5;241m.\u001b[39m_raise_timeout(err\u001b[38;5;241m=\u001b[39me, url\u001b[38;5;241m=\u001b[39murl, timeout_value\u001b[38;5;241m=\u001b[39mread_timeout)\n",
      "File \u001b[1;32m<string>:3\u001b[0m, in \u001b[0;36mraise_from\u001b[1;34m(value, from_value)\u001b[0m\n",
      "File \u001b[1;32m~\\anaconda3\\lib\\site-packages\\urllib3\\connectionpool.py:461\u001b[0m, in \u001b[0;36mHTTPConnectionPool._make_request\u001b[1;34m(self, conn, method, url, timeout, chunked, **httplib_request_kw)\u001b[0m\n\u001b[0;32m    458\u001b[0m \u001b[38;5;28;01mexcept\u001b[39;00m \u001b[38;5;167;01mTypeError\u001b[39;00m:\n\u001b[0;32m    459\u001b[0m     \u001b[38;5;66;03m# Python 3\u001b[39;00m\n\u001b[0;32m    460\u001b[0m     \u001b[38;5;28;01mtry\u001b[39;00m:\n\u001b[1;32m--> 461\u001b[0m         httplib_response \u001b[38;5;241m=\u001b[39m \u001b[43mconn\u001b[49m\u001b[38;5;241;43m.\u001b[39;49m\u001b[43mgetresponse\u001b[49m\u001b[43m(\u001b[49m\u001b[43m)\u001b[49m\n\u001b[0;32m    462\u001b[0m     \u001b[38;5;28;01mexcept\u001b[39;00m \u001b[38;5;167;01mBaseException\u001b[39;00m \u001b[38;5;28;01mas\u001b[39;00m e:\n\u001b[0;32m    463\u001b[0m         \u001b[38;5;66;03m# Remove the TypeError from the exception chain in\u001b[39;00m\n\u001b[0;32m    464\u001b[0m         \u001b[38;5;66;03m# Python 3 (including for exceptions like SystemExit).\u001b[39;00m\n\u001b[0;32m    465\u001b[0m         \u001b[38;5;66;03m# Otherwise it looks like a bug in the code.\u001b[39;00m\n\u001b[0;32m    466\u001b[0m         six\u001b[38;5;241m.\u001b[39mraise_from(e, \u001b[38;5;28;01mNone\u001b[39;00m)\n",
      "File \u001b[1;32m~\\anaconda3\\lib\\http\\client.py:1374\u001b[0m, in \u001b[0;36mHTTPConnection.getresponse\u001b[1;34m(self)\u001b[0m\n\u001b[0;32m   1372\u001b[0m \u001b[38;5;28;01mtry\u001b[39;00m:\n\u001b[0;32m   1373\u001b[0m     \u001b[38;5;28;01mtry\u001b[39;00m:\n\u001b[1;32m-> 1374\u001b[0m         \u001b[43mresponse\u001b[49m\u001b[38;5;241;43m.\u001b[39;49m\u001b[43mbegin\u001b[49m\u001b[43m(\u001b[49m\u001b[43m)\u001b[49m\n\u001b[0;32m   1375\u001b[0m     \u001b[38;5;28;01mexcept\u001b[39;00m \u001b[38;5;167;01mConnectionError\u001b[39;00m:\n\u001b[0;32m   1376\u001b[0m         \u001b[38;5;28mself\u001b[39m\u001b[38;5;241m.\u001b[39mclose()\n",
      "File \u001b[1;32m~\\anaconda3\\lib\\http\\client.py:318\u001b[0m, in \u001b[0;36mHTTPResponse.begin\u001b[1;34m(self)\u001b[0m\n\u001b[0;32m    316\u001b[0m \u001b[38;5;66;03m# read until we get a non-100 response\u001b[39;00m\n\u001b[0;32m    317\u001b[0m \u001b[38;5;28;01mwhile\u001b[39;00m \u001b[38;5;28;01mTrue\u001b[39;00m:\n\u001b[1;32m--> 318\u001b[0m     version, status, reason \u001b[38;5;241m=\u001b[39m \u001b[38;5;28;43mself\u001b[39;49m\u001b[38;5;241;43m.\u001b[39;49m\u001b[43m_read_status\u001b[49m\u001b[43m(\u001b[49m\u001b[43m)\u001b[49m\n\u001b[0;32m    319\u001b[0m     \u001b[38;5;28;01mif\u001b[39;00m status \u001b[38;5;241m!=\u001b[39m CONTINUE:\n\u001b[0;32m    320\u001b[0m         \u001b[38;5;28;01mbreak\u001b[39;00m\n",
      "File \u001b[1;32m~\\anaconda3\\lib\\http\\client.py:279\u001b[0m, in \u001b[0;36mHTTPResponse._read_status\u001b[1;34m(self)\u001b[0m\n\u001b[0;32m    278\u001b[0m \u001b[38;5;28;01mdef\u001b[39;00m \u001b[38;5;21m_read_status\u001b[39m(\u001b[38;5;28mself\u001b[39m):\n\u001b[1;32m--> 279\u001b[0m     line \u001b[38;5;241m=\u001b[39m \u001b[38;5;28mstr\u001b[39m(\u001b[38;5;28;43mself\u001b[39;49m\u001b[38;5;241;43m.\u001b[39;49m\u001b[43mfp\u001b[49m\u001b[38;5;241;43m.\u001b[39;49m\u001b[43mreadline\u001b[49m\u001b[43m(\u001b[49m\u001b[43m_MAXLINE\u001b[49m\u001b[43m \u001b[49m\u001b[38;5;241;43m+\u001b[39;49m\u001b[43m \u001b[49m\u001b[38;5;241;43m1\u001b[39;49m\u001b[43m)\u001b[49m, \u001b[38;5;124m\"\u001b[39m\u001b[38;5;124miso-8859-1\u001b[39m\u001b[38;5;124m\"\u001b[39m)\n\u001b[0;32m    280\u001b[0m     \u001b[38;5;28;01mif\u001b[39;00m \u001b[38;5;28mlen\u001b[39m(line) \u001b[38;5;241m>\u001b[39m _MAXLINE:\n\u001b[0;32m    281\u001b[0m         \u001b[38;5;28;01mraise\u001b[39;00m LineTooLong(\u001b[38;5;124m\"\u001b[39m\u001b[38;5;124mstatus line\u001b[39m\u001b[38;5;124m\"\u001b[39m)\n",
      "File \u001b[1;32m~\\anaconda3\\lib\\socket.py:705\u001b[0m, in \u001b[0;36mSocketIO.readinto\u001b[1;34m(self, b)\u001b[0m\n\u001b[0;32m    703\u001b[0m \u001b[38;5;28;01mwhile\u001b[39;00m \u001b[38;5;28;01mTrue\u001b[39;00m:\n\u001b[0;32m    704\u001b[0m     \u001b[38;5;28;01mtry\u001b[39;00m:\n\u001b[1;32m--> 705\u001b[0m         \u001b[38;5;28;01mreturn\u001b[39;00m \u001b[38;5;28;43mself\u001b[39;49m\u001b[38;5;241;43m.\u001b[39;49m\u001b[43m_sock\u001b[49m\u001b[38;5;241;43m.\u001b[39;49m\u001b[43mrecv_into\u001b[49m\u001b[43m(\u001b[49m\u001b[43mb\u001b[49m\u001b[43m)\u001b[49m\n\u001b[0;32m    706\u001b[0m     \u001b[38;5;28;01mexcept\u001b[39;00m timeout:\n\u001b[0;32m    707\u001b[0m         \u001b[38;5;28mself\u001b[39m\u001b[38;5;241m.\u001b[39m_timeout_occurred \u001b[38;5;241m=\u001b[39m \u001b[38;5;28;01mTrue\u001b[39;00m\n",
      "\u001b[1;31mProtocolError\u001b[0m: ('Connection aborted.', ConnectionResetError(10054, '현재 연결은 원격 호스트에 의해 강제로 끊겼습니다', None, 10054, None))"
     ]
    }
   ],
   "source": [
    "error = []\n",
    "seller_info = []\n",
    "seller_page_hrefs = []\n",
    "pass_url = 'https://www.11st.co.kr/disp/'\n",
    "cate = ['상호명/대표자', '전화번호','영업소재지']\n",
    "final_info = [[''], [''],['']]\n",
    "\n",
    "for keyword in keywords:\n",
    "    browser.get(f\"https://search.11st.co.kr/Search.tmall?kwd={keyword}\")\n",
    "\n",
    "    time.sleep(0.5)\n",
    "    soup = BS(browser.page_source, \"html.parser\")\n",
    "    soup = soup.find_all(class_='c_prd_seller')\n",
    "\n",
    "    for i in soup:\n",
    "        try:\n",
    "            seller_page_hrefs.append(i.find(\"a\").attrs['href'])\n",
    "        except KeyError:\n",
    "            print(i)\n",
    "\n",
    "    c = 1\n",
    "    ta = browser.find_elements(By.CSS_SELECTOR, 'nav.c_pagination > ul.list > li > a')\n",
    "\n",
    "    for i in range(1, 26):\n",
    "        if i == 1: pass\n",
    "        elif i % 10 == 1:\n",
    "            ta = browser.find_elements(By.CSS_SELECTOR, 'nav.c_pagination > ul.list > li > a')\n",
    "            if i > 20:\n",
    "                c = 2\n",
    "            else: c = 1\n",
    "            print(f'{i}, {c} if ')\n",
    "        time.sleep(1)\n",
    "        ta[c].click()\n",
    "        print(f'{ta[c].text}, {keyword}')\n",
    "        soup = BS(browser.page_source, \"html.parser\")\n",
    "        soup = soup.find_all(class_='c_prd_seller')\n",
    "\n",
    "        for i in soup:\n",
    "            try:\n",
    "                seller_page_hrefs.append(i.find(\"a\").attrs['href'])\n",
    "            except KeyError:\n",
    "                print(i)\n",
    "        c += 1\n",
    "\n",
    "    seller_page_hrefs = list(set(seller_page_hrefs))\n",
    "\n",
    "    for i in seller_page_hrefs:\n",
    "        if pass_url in i: continue\n",
    "        browser.get(i)    \n",
    "        time.sleep(0.5)\n",
    "        try:\n",
    "            s_info = find_className(\"store_info\").click()\n",
    "            string = find_className(\"store_info_detail\").text.split('\\n')\n",
    "            seller_info.append(string)\n",
    "        except:\n",
    "            pass\n",
    "\n",
    "    for i in seller_info:\n",
    "        try:\n",
    "            if '법인사업자' in i: continue\n",
    "            name = getNext(cate[0], i).split(' / ')[-1]\n",
    "            cont = getNext(cate[1], i)\n",
    "            loca = getNext(cate[2], i)\n",
    "            if all([name, cont, loca]) is None:\n",
    "                if all([name, cont]):\n",
    "                    final_info[0].append(name)\n",
    "                    final_info[1].append(cont)\n",
    "                    final_info[2].append('')\n",
    "                else:\n",
    "                    continue\n",
    "            else:\n",
    "                final_info[0].append(name)\n",
    "                final_info[1].append(cont)\n",
    "                final_info[2].append(loca)\n",
    "        except:\n",
    "            print(i)\n",
    "        \n",
    "df = pd.DataFrame({'대표자': final_info[0],\n",
    "                  '전화번호': final_info[1],\n",
    "                  '영업소재지': final_info[2]\n",
    "                  })\n",
    "df.to_csv(f'11st_{keyword}.csv', encoding='utf-8-sig', index = False)"
   ]
  },
  {
   "cell_type": "code",
   "execution_count": 176,
   "id": "e6024f58",
   "metadata": {
    "collapsed": true
   },
   "outputs": [
    {
     "name": "stdout",
     "output_type": "stream",
     "text": [
      "<div class=\"c_prd_seller\"><a data-log-actionid-label=\"sellername\" data-log-body='{\"content_type\":\"SELLER\",\"content_no\":\"NzI1NDMxNTgyNzI\",\"link_url\":\"https://www.11st.co.kr/products/4943903319?trTypeCd=21&amp;trCtgrNo=585021\",\"position_l2\":\"1\",\"product_no\":\"4943903319\"}' href=\"https://www.11st.co.kr/disp/DTAction.tmall?ID=SHOCKD&amp;ctgrNo=70229\" rel=\"noreferrer\" target=\"_blank\"><span class=\"name\">슈팅배송</span></a></div>\n",
      "<div class=\"c_prd_seller\"><a data-log-actionid-label=\"sellername\" data-log-body='{\"content_type\":\"SELLER\",\"content_no\":\"NzI2NzI2Mzg5NzY\",\"link_url\":\"https://www.11st.co.kr/products/4773780201?trTypeCd=21&amp;trCtgrNo=585021\",\"position_l2\":\"2\",\"product_no\":\"4773780201\"}' href=\"https://shop.11st.co.kr/stores/776618?pdpPrdNo=4773780201\" rel=\"noreferrer\" target=\"_blank\"><span class=\"name\">splus</span></a></div>\n",
      "<div class=\"c_prd_seller\"><a data-log-actionid-label=\"sellername\" data-log-body='{\"content_type\":\"SELLER\",\"content_no\":\"NDcwNzI2MTg0OTY\",\"link_url\":\"https://www.11st.co.kr/products/3608009243?trTypeCd=21&amp;trCtgrNo=585021\",\"position_l2\":\"3\",\"product_no\":\"3608009243\"}' href=\"https://shop.11st.co.kr/stores/420068?pdpPrdNo=3608009243\" rel=\"noreferrer\" target=\"_blank\"><span class=\"name\">공영쇼핑</span></a></div>\n",
      "<div class=\"c_prd_seller\"><a data-log-actionid-label=\"sellername\" data-log-body='{\"content_type\":\"SELLER\",\"content_no\":\"MTAyNDg3NTMxNTI\",\"link_url\":\"https://www.11st.co.kr/products/64044952?trTypeCd=21&amp;trCtgrNo=585021\",\"position_l2\":\"4\",\"product_no\":\"64044952\"}' href=\"https://shop.11st.co.kr/stores/20723?pdpPrdNo=64044952\" rel=\"noreferrer\" target=\"_blank\"><span class=\"name\">모두야</span></a></div>\n",
      "<div class=\"c_prd_seller\"><a data-log-actionid-label=\"sellername\" data-log-body='{\"content_type\":\"SELLER\",\"content_no\":\"NDgyNTA4NTY0NDg\",\"link_url\":\"https://www.11st.co.kr/products/3726889089?trTypeCd=21&amp;trCtgrNo=585021\",\"position_l2\":\"5\",\"product_no\":\"3726889089\"}' href=\"https://shop.11st.co.kr/stores/432089?pdpPrdNo=3726889089\" rel=\"noreferrer\" target=\"_blank\"><span class=\"name\">더누림</span></a></div>\n",
      "<div class=\"c_prd_seller\"><a data-log-actionid-label=\"sellername\" data-log-body='{\"content_type\":\"SELLER\",\"content_no\":\"MTQ3OTMxMjM4NDA\",\"link_url\":\"https://www.11st.co.kr/products/4190304142?trTypeCd=21&amp;trCtgrNo=585021\",\"position_l2\":\"6\",\"product_no\":\"4190304142\"}' href=\"https://shop.11st.co.kr/stores/138428?pdpPrdNo=4190304142\" rel=\"noreferrer\" target=\"_blank\"><span class=\"name\">KT알파쇼핑_온라인몰</span></a></div>\n",
      "<div class=\"c_prd_seller\"><a data-log-actionid-label=\"sellername\" data-log-body='{\"content_type\":\"SELLER\",\"content_no\":\"NDE4NDE4ODUxODQ\",\"link_url\":\"https://www.11st.co.kr/products/2916645187?trTypeCd=21&amp;trCtgrNo=585021\",\"position_l2\":\"7\",\"product_no\":\"2916645187\"}' href=\"https://shop.11st.co.kr/stores/7792?pdpPrdNo=2916645187\" rel=\"noreferrer\" target=\"_blank\"><span class=\"name\">송월갤러리</span></a></div>\n",
      "<div class=\"c_prd_seller\"><a data-log-actionid-label=\"sellername\" data-log-body='{\"content_type\":\"SELLER\",\"content_no\":\"NjYyNTg5ODE4ODg\",\"link_url\":\"https://www.11st.co.kr/products/5935011332?trTypeCd=21&amp;trCtgrNo=585021\",\"position_l2\":\"8\",\"product_no\":\"5935011332\"}' href=\"https://shop.11st.co.kr/stores/591292?pdpPrdNo=5935011332\" rel=\"noreferrer\" target=\"_blank\"><span class=\"name\">글로벌엘엠</span></a></div>\n",
      "<div class=\"c_prd_seller\"><a data-log-actionid-label=\"sellername\" data-log-body='{\"content_type\":\"SELLER\",\"content_no\":\"NzUwNzM3MDcwMDg\",\"link_url\":\"https://www.11st.co.kr/products/5945434873?trTypeCd=21&amp;trCtgrNo=585021\",\"position_l2\":\"9\",\"product_no\":\"5945434873\"}' href=\"https://shop.11st.co.kr/stores/906383?pdpPrdNo=5945434873\" rel=\"noreferrer\" target=\"_blank\"><span class=\"name\">요기잇스토어</span></a></div>\n",
      "<div class=\"c_prd_seller\"><a data-log-actionid-label=\"sellername\" data-log-body='{\"content_type\":\"SELLER\",\"content_no\":\"NDE4NDE4ODUxODQ\",\"link_url\":\"https://www.11st.co.kr/products/2918552739?trTypeCd=21&amp;trCtgrNo=585021\",\"position_l2\":\"10\",\"product_no\":\"2918552739\"}' href=\"https://shop.11st.co.kr/stores/7792?pdpPrdNo=2918552739\" rel=\"noreferrer\" target=\"_blank\"><span class=\"name\">송월갤러리</span></a></div>\n",
      "<div class=\"c_prd_seller\"><a data-log-actionid-label=\"sellername\" data-log-body='{\"content_type\":\"SELLER\",\"content_no\":\"MTAyNDY2NDM3MTI\",\"link_url\":\"https://www.11st.co.kr/products/2930586902?trTypeCd=21&amp;trCtgrNo=585021\",\"position_l2\":\"11\",\"product_no\":\"2930586902\"}' href=\"https://shop.11st.co.kr/stores/19974?pdpPrdNo=2930586902\" rel=\"noreferrer\" target=\"_blank\"><span class=\"name\">제일쇼핑</span></a></div>\n",
      "<div class=\"c_prd_seller\"><a data-log-actionid-label=\"sellername\" data-log-body='{\"content_type\":\"SELLER\",\"content_no\":\"NDA0OTQ5MzgxMTI\",\"link_url\":\"https://www.11st.co.kr/products/5605804349?trTypeCd=21&amp;trCtgrNo=585021\",\"position_l2\":\"12\",\"product_no\":\"5605804349\"}' href=\"https://shop.11st.co.kr/stores/353541?pdpPrdNo=5605804349\" rel=\"noreferrer\" target=\"_blank\"><span class=\"name\">행복나래mall</span></a></div>\n",
      "<div class=\"c_prd_seller\"><a data-log-actionid-label=\"sellername\" data-log-body='{\"content_type\":\"SELLER\",\"content_no\":\"NzI1NDMxNTgyNzI\",\"link_url\":\"https://www.11st.co.kr/products/4584285752?trTypeCd=21&amp;trCtgrNo=585021\",\"position_l2\":\"13\",\"product_no\":\"4584285752\"}' href=\"https://www.11st.co.kr/disp/DTAction.tmall?ID=SHOCKD&amp;ctgrNo=70229\" rel=\"noreferrer\" target=\"_blank\"><span class=\"name\">슈팅배송</span></a></div>\n",
      "<div class=\"c_prd_seller\"><a data-log-actionid-label=\"sellername\" data-log-body='{\"content_type\":\"SELLER\",\"content_no\":\"MjYxOTMzNzUyMzI\",\"link_url\":\"https://www.11st.co.kr/products/4672345531?trTypeCd=21&amp;trCtgrNo=585021\",\"position_l2\":\"14\",\"product_no\":\"4672345531\"}' href=\"https://shop.11st.co.kr/stores/251899?pdpPrdNo=4672345531\" rel=\"noreferrer\" target=\"_blank\"><span class=\"name\">롯데아이몰</span></a></div>\n",
      "<div class=\"c_prd_seller\"><a data-log-actionid-label=\"sellername\" data-log-body='{\"content_type\":\"SELLER\",\"content_no\":\"Njg2MDAyNTY1MTI\",\"link_url\":\"https://www.11st.co.kr/products/3665835518?trTypeCd=21&amp;trCtgrNo=585021\",\"position_l2\":\"15\",\"product_no\":\"3665835518\"}' href=\"https://shop.11st.co.kr/stores/643801?pdpPrdNo=3665835518\" rel=\"noreferrer\" target=\"_blank\"><span class=\"name\">GSSHOP_</span></a></div>\n",
      "<div class=\"c_prd_seller\"><a data-log-actionid-label=\"sellername\" data-log-body='{\"content_type\":\"SELLER\",\"content_no\":\"NzQyMjMyODUyNDg\",\"link_url\":\"https://www.11st.co.kr/products/5871475349?trTypeCd=21&amp;trCtgrNo=585021\",\"position_l2\":\"16\",\"product_no\":\"5871475349\"}' href=\"https://shop.11st.co.kr/stores/823054?pdpPrdNo=5871475349\" rel=\"noreferrer\" target=\"_blank\"><span class=\"name\">ahnskorea</span></a></div>\n",
      "<div class=\"c_prd_seller\"><a data-log-actionid-label=\"sellername\" data-log-body='{\"content_type\":\"SELLER\",\"content_no\":\"MjYxOTMzNzUyMzI\",\"link_url\":\"https://www.11st.co.kr/products/2376122266?trTypeCd=21&amp;trCtgrNo=585021\",\"position_l2\":\"17\",\"product_no\":\"2376122266\"}' href=\"https://shop.11st.co.kr/stores/251899?pdpPrdNo=2376122266\" rel=\"noreferrer\" target=\"_blank\"><span class=\"name\">롯데아이몰</span></a></div>\n",
      "<div class=\"c_prd_seller\"><a data-log-actionid-label=\"sellername\" data-log-body='{\"content_type\":\"SELLER\",\"content_no\":\"NjkwNzIzOTgzMzY\",\"link_url\":\"https://www.11st.co.kr/products/4554230658?trTypeCd=21&amp;trCtgrNo=585021\",\"position_l2\":\"18\",\"product_no\":\"4554230658\"}' href=\"https://shop.11st.co.kr/stores/661040?pdpPrdNo=4554230658\" rel=\"noreferrer\" target=\"_blank\"><span class=\"name\">스토어라온</span></a></div>\n",
      "<div class=\"c_prd_seller\"><a data-log-actionid-label=\"sellername\" data-log-body='{\"content_type\":\"SELLER\",\"content_no\":\"NzI3MDg4ODM0NTY\",\"link_url\":\"https://www.11st.co.kr/products/5925027657?trTypeCd=21&amp;trCtgrNo=585021\",\"position_l2\":\"19\",\"product_no\":\"5925027657\"}' href=\"https://shop.11st.co.kr/stores/778651?pdpPrdNo=5925027657\" rel=\"noreferrer\" target=\"_blank\"><span class=\"name\">가벼운것만</span></a></div>\n",
      "<div class=\"c_prd_seller\"><a data-log-actionid-label=\"sellername\" data-log-body='{\"content_type\":\"SELLER\",\"content_no\":\"NzUwODgwOTQyMDg\",\"link_url\":\"https://www.11st.co.kr/products/5947273594?trTypeCd=21&amp;trCtgrNo=585021\",\"position_l2\":\"20\",\"product_no\":\"5947273594\"}' href=\"https://shop.11st.co.kr/stores/909435?pdpPrdNo=5947273594\" rel=\"noreferrer\" target=\"_blank\"><span class=\"name\">퍼니민트</span></a></div>\n",
      "<div class=\"c_prd_seller\"><a data-log-actionid-label=\"sellername\" data-log-body='{\"content_type\":\"SELLER\",\"content_no\":\"NzMwODUyNjY5NDQ\",\"link_url\":\"https://www.11st.co.kr/products/5725363538?trTypeCd=21&amp;trCtgrNo=585021\",\"position_l2\":\"21\",\"product_no\":\"5725363538\"}' href=\"https://shop.11st.co.kr/stores/805290?pdpPrdNo=5725363538\" rel=\"noreferrer\" target=\"_blank\"><span class=\"name\">캐릭터1번지</span></a></div>\n",
      "<div class=\"c_prd_seller\"><a data-log-actionid-label=\"sellername\" data-log-body='{\"content_type\":\"SELLER\",\"content_no\":\"Njg2MDAyNTY1MTI\",\"link_url\":\"https://www.11st.co.kr/products/4372287070?trTypeCd=21&amp;trCtgrNo=585021\",\"position_l2\":\"22\",\"product_no\":\"4372287070\"}' href=\"https://shop.11st.co.kr/stores/643801?pdpPrdNo=4372287070\" rel=\"noreferrer\" target=\"_blank\"><span class=\"name\">GSSHOP_</span></a></div>\n",
      "<div class=\"c_prd_seller\"><a data-log-actionid-label=\"sellername\" data-log-body='{\"content_type\":\"SELLER\",\"content_no\":\"NzMxNTIxODAyMjQ\",\"link_url\":\"https://www.11st.co.kr/products/5660326103?trTypeCd=21&amp;trCtgrNo=585021\",\"position_l2\":\"23\",\"product_no\":\"5660326103\"}' href=\"https://shop.11st.co.kr/stores/807678?pdpPrdNo=5660326103\" rel=\"noreferrer\" target=\"_blank\"><span class=\"name\">HST</span></a></div>\n",
      "<div class=\"c_prd_seller\"><a data-log-actionid-label=\"sellername\" data-log-body='{\"content_type\":\"SELLER\",\"content_no\":\"NDQ0ODUxNDE1MDQ\",\"link_url\":\"https://www.11st.co.kr/products/2124082753?trTypeCd=21&amp;trCtgrNo=585021\",\"position_l2\":\"24\",\"product_no\":\"2124082753\"}' href=\"https://shop.11st.co.kr/stores/399263?pdpPrdNo=2124082753\" rel=\"noreferrer\" target=\"_blank\"><span class=\"name\">소확행쇼핑몰</span></a></div>\n",
      "<div class=\"c_prd_seller\"><a data-log-actionid-label=\"sellername\" data-log-body='{\"content_type\":\"SELLER\",\"content_no\":\"NzE0NjUwNTMxODQ\",\"link_url\":\"https://www.11st.co.kr/products/4579917786?trTypeCd=21&amp;trCtgrNo=585021\",\"position_l2\":\"25\",\"product_no\":\"4579917786\"}' href=\"https://shop.11st.co.kr/stores/729780?pdpPrdNo=4579917786\" rel=\"noreferrer\" target=\"_blank\"><span class=\"name\">오로라장터</span></a></div>\n",
      "<div class=\"c_prd_seller\"><a data-log-actionid-label=\"sellername\" data-log-body='{\"content_type\":\"SELLER\",\"content_no\":\"NzE3Mjg4MDE3OTI\",\"link_url\":\"https://www.11st.co.kr/products/5697991104?trTypeCd=21&amp;trCtgrNo=585021\",\"position_l2\":\"26\",\"product_no\":\"5697991104\"}' href=\"https://shop.11st.co.kr/stores/741404?pdpPrdNo=5697991104\" rel=\"noreferrer\" target=\"_blank\"><span class=\"name\">한마디로</span></a></div>\n",
      "<div class=\"c_prd_seller\"><a data-log-actionid-label=\"sellername\" data-log-body='{\"content_type\":\"SELLER\",\"content_no\":\"NjQxMjE4ODY3MjA\",\"link_url\":\"https://www.11st.co.kr/products/5591409047?trTypeCd=21&amp;trCtgrNo=585021\",\"position_l2\":\"27\",\"product_no\":\"5591409047\"}' href=\"https://shop.11st.co.kr/stores/565701?pdpPrdNo=5591409047\" rel=\"noreferrer\" target=\"_blank\"><span class=\"name\">구구문구</span></a></div>\n",
      "<div class=\"c_prd_seller\"><a data-log-actionid-label=\"sellername\" data-log-body='{\"content_type\":\"SELLER\",\"content_no\":\"Njg2MDAyNTY1MTI\",\"link_url\":\"https://www.11st.co.kr/products/3630520655?trTypeCd=21&amp;trCtgrNo=585021\",\"position_l2\":\"28\",\"product_no\":\"3630520655\"}' href=\"https://shop.11st.co.kr/stores/643801?pdpPrdNo=3630520655\" rel=\"noreferrer\" target=\"_blank\"><span class=\"name\">GSSHOP_</span></a></div>\n",
      "<div class=\"c_prd_seller\"><a data-log-actionid-label=\"sellername\" data-log-body='{\"content_type\":\"SELLER\",\"content_no\":\"NzQ3NDkyMjI5MTI\",\"link_url\":\"https://www.11st.co.kr/products/5888456153?trTypeCd=21&amp;trCtgrNo=585021\",\"position_l2\":\"29\",\"product_no\":\"5888456153\"}' href=\"https://shop.11st.co.kr/stores/885625?pdpPrdNo=5888456153\" rel=\"noreferrer\" target=\"_blank\"><span class=\"name\">바이쇼퍼</span></a></div>\n",
      "<div class=\"c_prd_seller\"><a data-log-actionid-label=\"sellername\" data-log-body='{\"content_type\":\"SELLER\",\"content_no\":\"MjYxOTMzNzUyMzI\",\"link_url\":\"https://www.11st.co.kr/products/2376122192?trTypeCd=21&amp;trCtgrNo=585021\",\"position_l2\":\"30\",\"product_no\":\"2376122192\"}' href=\"https://shop.11st.co.kr/stores/251899?pdpPrdNo=2376122192\" rel=\"noreferrer\" target=\"_blank\"><span class=\"name\">롯데아이몰</span></a></div>\n",
      "<div class=\"c_prd_seller\"><a data-log-actionid-label=\"sellername\" data-log-body='{\"content_type\":\"SELLER\",\"content_no\":\"NzQzNTY4OTQ3MjA\",\"link_url\":\"https://www.11st.co.kr/products/5970738409?trTypeCd=21&amp;trCtgrNo=585021\",\"position_l2\":\"31\",\"product_no\":\"5970738409\"}' href=\"https://shop.11st.co.kr/stores/874378?pdpPrdNo=5970738409\" rel=\"noreferrer\" target=\"_blank\"><span class=\"name\">MWGroup</span></a></div>\n",
      "<div class=\"c_prd_seller\"><a data-log-actionid-label=\"sellername\" data-log-body='{\"content_type\":\"SELLER\",\"content_no\":\"NzI3MzcyOTIyODg\",\"link_url\":\"https://www.11st.co.kr/products/5728964346?trTypeCd=21&amp;trCtgrNo=585021\",\"position_l2\":\"32\",\"product_no\":\"5728964346\"}' href=\"https://shop.11st.co.kr/stores/779180?pdpPrdNo=5728964346\" rel=\"noreferrer\" target=\"_blank\"><span class=\"name\">그해겨울</span></a></div>\n",
      "<div class=\"c_prd_seller\"><a data-log-actionid-label=\"sellername\" data-log-body='{\"content_type\":\"SELLER\",\"content_no\":\"NzI1NDMxNTgyNzI\",\"link_url\":\"https://www.11st.co.kr/products/4800091480?trTypeCd=21&amp;trCtgrNo=585021\",\"position_l2\":\"33\",\"product_no\":\"4800091480\"}' href=\"https://www.11st.co.kr/disp/DTAction.tmall?ID=SHOCKD&amp;ctgrNo=70229\" rel=\"noreferrer\" target=\"_blank\"><span class=\"name\">슈팅배송</span></a></div>\n",
      "<div class=\"c_prd_seller\"><a data-log-actionid-label=\"sellername\" data-log-body='{\"content_type\":\"SELLER\",\"content_no\":\"Mjc2NjMwMDA1NzY\",\"link_url\":\"https://www.11st.co.kr/products/5897109827?trTypeCd=21&amp;trCtgrNo=585021\",\"position_l2\":\"34\",\"product_no\":\"5897109827\"}' href=\"https://shop.11st.co.kr/stores/274905?pdpPrdNo=5897109827\" rel=\"noreferrer\" target=\"_blank\"><span class=\"name\">책임경영</span></a></div>\n",
      "<div class=\"c_prd_seller\"><a data-log-actionid-label=\"sellername\" data-log-body='{\"content_type\":\"SELLER\",\"content_no\":\"MjYxOTMzNzUyMzI\",\"link_url\":\"https://www.11st.co.kr/products/5718471291?trTypeCd=21&amp;trCtgrNo=585021\",\"position_l2\":\"35\",\"product_no\":\"5718471291\"}' href=\"https://shop.11st.co.kr/stores/251899?pdpPrdNo=5718471291\" rel=\"noreferrer\" target=\"_blank\"><span class=\"name\">롯데아이몰</span></a></div>\n",
      "<div class=\"c_prd_seller\"><a data-log-actionid-label=\"sellername\" data-log-body='{\"content_type\":\"SELLER\",\"content_no\":\"NTY3NDg2MzIwNjQ\",\"link_url\":\"https://www.11st.co.kr/products/4971495783?trTypeCd=21&amp;trCtgrNo=585021\",\"position_l2\":\"36\",\"product_no\":\"4971495783\"}' href=\"https://shop.11st.co.kr/stores/505555?pdpPrdNo=4971495783\" rel=\"noreferrer\" target=\"_blank\"><span class=\"name\">seoultrad</span></a></div>\n",
      "<div class=\"c_prd_seller\"><a data-log-actionid-label=\"sellername\" data-log-body='{\"content_type\":\"SELLER\",\"content_no\":\"Mzc2ODQwNDk5MjA\",\"link_url\":\"https://www.11st.co.kr/products/4329502821?trTypeCd=21&amp;trCtgrNo=585021\",\"position_l2\":\"37\",\"product_no\":\"4329502821\"}' href=\"https://shop.11st.co.kr/stores/432972?pdpPrdNo=4329502821\" rel=\"noreferrer\" target=\"_blank\"><span class=\"name\">킹콩아울렛</span></a></div>\n",
      "<div class=\"c_prd_seller\"><a data-log-actionid-label=\"sellername\" data-log-body='{\"content_type\":\"SELLER\",\"content_no\":\"NzQ5NjIwODQ4NjQ\",\"link_url\":\"https://www.11st.co.kr/products/5902389857?trTypeCd=21&amp;trCtgrNo=585021\",\"position_l2\":\"38\",\"product_no\":\"5902389857\"}' href=\"https://shop.11st.co.kr/stores/897379?pdpPrdNo=5902389857\" rel=\"noreferrer\" target=\"_blank\"><span class=\"name\">별가게</span></a></div>\n",
      "<div class=\"c_prd_seller\"><a data-log-actionid-label=\"sellername\" data-log-body='{\"content_type\":\"SELLER\",\"content_no\":\"NjEzMDQ3ODA4MDA\",\"link_url\":\"https://www.11st.co.kr/products/3563940701?trTypeCd=21&amp;trCtgrNo=585021\",\"position_l2\":\"39\",\"product_no\":\"3563940701\"}' href=\"https://shop.11st.co.kr/stores/538533?pdpPrdNo=3563940701\" rel=\"noreferrer\" target=\"_blank\"><span class=\"name\">everget_kakao</span></a></div>\n",
      "<div class=\"c_prd_seller\"><a data-log-actionid-label=\"sellername\" data-log-body='{\"content_type\":\"SELLER\",\"content_no\":\"Njg2MDAyNTY1MTI\",\"link_url\":\"https://www.11st.co.kr/products/3630666418?trTypeCd=21&amp;trCtgrNo=585021\",\"position_l2\":\"40\",\"product_no\":\"3630666418\"}' href=\"https://shop.11st.co.kr/stores/643801?pdpPrdNo=3630666418\" rel=\"noreferrer\" target=\"_blank\"><span class=\"name\">GSSHOP_</span></a></div>\n",
      "<div class=\"c_prd_seller\"><a data-log-actionid-label=\"sellername\" data-log-body='{\"content_type\":\"SELLER\",\"content_no\":\"NDM5NDg2MjQ4OTY\",\"link_url\":\"https://www.11st.co.kr/products/5724710522?trTypeCd=21&amp;trCtgrNo=585021\",\"position_l2\":\"41\",\"product_no\":\"5724710522\"}' href=\"https://shop.11st.co.kr/stores/4477?pdpPrdNo=5724710522\" rel=\"noreferrer\" target=\"_blank\"><span class=\"name\">★키즈노리★</span></a></div>\n",
      "<div class=\"c_prd_seller\"><a data-log-actionid-label=\"sellername\" data-log-body='{\"content_type\":\"SELLER\",\"content_no\":\"NTcyNzc0Njk2OTY\",\"link_url\":\"https://www.11st.co.kr/products/2290564242?trTypeCd=21&amp;trCtgrNo=585021\",\"position_l2\":\"42\",\"product_no\":\"2290564242\"}' href=\"https://shop.11st.co.kr/stores/508510?pdpPrdNo=2290564242\" rel=\"noreferrer\" target=\"_blank\"><span class=\"name\">한국우산</span></a></div>\n",
      "<div class=\"c_prd_seller\"><a data-log-actionid-label=\"sellername\" data-log-body='{\"content_type\":\"SELLER\",\"content_no\":\"NjY2MTI4NDU1Njg\",\"link_url\":\"https://www.11st.co.kr/products/5868654803?trTypeCd=21&amp;trCtgrNo=585021\",\"position_l2\":\"43\",\"product_no\":\"5868654803\"}' href=\"https://shop.11st.co.kr/stores/594594?pdpPrdNo=5868654803\" rel=\"noreferrer\" target=\"_blank\"><span class=\"name\">biomjw75</span></a></div>\n",
      "<div class=\"c_prd_seller\"><a data-log-actionid-label=\"sellername\" data-log-body='{\"content_type\":\"SELLER\",\"content_no\":\"NzQzNTY4OTQ3MjA\",\"link_url\":\"https://www.11st.co.kr/products/5970737111?trTypeCd=21&amp;trCtgrNo=585021\",\"position_l2\":\"44\",\"product_no\":\"5970737111\"}' href=\"https://shop.11st.co.kr/stores/874378?pdpPrdNo=5970737111\" rel=\"noreferrer\" target=\"_blank\"><span class=\"name\">MWGroup</span></a></div>\n",
      "<div class=\"c_prd_seller\"><a data-log-actionid-label=\"sellername\" data-log-body='{\"content_type\":\"SELLER\",\"content_no\":\"Mjc2NjMxNjg1MTI\",\"link_url\":\"https://www.11st.co.kr/products/454924623?trTypeCd=21&amp;trCtgrNo=585021\",\"position_l2\":\"45\",\"product_no\":\"454924623\"}' href=\"https://shop.11st.co.kr/stores/274075?pdpPrdNo=454924623\" rel=\"noreferrer\" target=\"_blank\"><span class=\"name\">컴피오닉스</span></a></div>\n",
      "<div class=\"c_prd_seller\"><a data-log-actionid-label=\"sellername\" data-log-body='{\"content_type\":\"SELLER\",\"content_no\":\"MTU0NTE3MTM1MzY\",\"link_url\":\"https://www.11st.co.kr/products/2359204277?trTypeCd=21&amp;trCtgrNo=585021\",\"position_l2\":\"46\",\"product_no\":\"2359204277\"}' href=\"https://shop.11st.co.kr/stores/146581?pdpPrdNo=2359204277\" rel=\"noreferrer\" target=\"_blank\"><span class=\"name\">AKmall</span></a></div>\n",
      "<div class=\"c_prd_seller\"><a data-log-actionid-label=\"sellername\" data-log-body='{\"content_type\":\"SELLER\",\"content_no\":\"Mzk1OTE0MzUyNjQ\",\"link_url\":\"https://www.11st.co.kr/products/5777158762?trTypeCd=21&amp;trCtgrNo=585021\",\"position_l2\":\"47\",\"product_no\":\"5777158762\"}' href=\"https://shop.11st.co.kr/stores/338749?pdpPrdNo=5777158762\" rel=\"noreferrer\" target=\"_blank\"><span class=\"name\">주식회사제이야드</span></a></div>\n",
      "<div class=\"c_prd_seller\"><a data-log-actionid-label=\"sellername\" data-log-body='{\"content_type\":\"SELLER\",\"content_no\":\"MTAyNDg3NTMxNTI\",\"link_url\":\"https://www.11st.co.kr/products/4396397338?trTypeCd=21&amp;trCtgrNo=585021\",\"position_l2\":\"48\",\"product_no\":\"4396397338\"}' href=\"https://shop.11st.co.kr/stores/20723?pdpPrdNo=4396397338\" rel=\"noreferrer\" target=\"_blank\"><span class=\"name\">모두야</span></a></div>\n",
      "<div class=\"c_prd_seller\"><a data-log-actionid-label=\"sellername\" data-log-body='{\"content_type\":\"SELLER\",\"content_no\":\"MTQ3OTMxMjM4NDA\",\"link_url\":\"https://www.11st.co.kr/products/4190326078?trTypeCd=21&amp;trCtgrNo=585021\",\"position_l2\":\"49\",\"product_no\":\"4190326078\"}' href=\"https://shop.11st.co.kr/stores/138428?pdpPrdNo=4190326078\" rel=\"noreferrer\" target=\"_blank\"><span class=\"name\">KT알파쇼핑_온라인몰</span></a></div>\n",
      "<div class=\"c_prd_seller\"><a data-log-actionid-label=\"sellername\" data-log-body='{\"content_type\":\"SELLER\",\"content_no\":\"NzQ5NTM4MTkxMzY\",\"link_url\":\"https://www.11st.co.kr/products/5850971843?trTypeCd=21&amp;trCtgrNo=585021\",\"position_l2\":\"50\",\"product_no\":\"5850971843\"}' href=\"https://shop.11st.co.kr/stores/897273?pdpPrdNo=5850971843\" rel=\"noreferrer\" target=\"_blank\"><span class=\"name\">복우리마켓</span></a></div>\n",
      "<div class=\"c_prd_seller\"><a data-log-actionid-label=\"sellername\" data-log-body='{\"content_type\":\"SELLER\",\"content_no\":\"NTgyOTgxMTQwNDg\",\"link_url\":\"https://www.11st.co.kr/products/3509057781?trTypeCd=21&amp;trCtgrNo=585021\",\"position_l2\":\"51\",\"product_no\":\"3509057781\"}' href=\"https://shop.11st.co.kr/stores/519750?pdpPrdNo=3509057781\" rel=\"noreferrer\" target=\"_blank\"><span class=\"name\">마켓드봉</span></a></div>\n",
      "<div class=\"c_prd_seller\"><a data-log-actionid-label=\"sellername\" data-log-body='{\"content_type\":\"SELLER\",\"content_no\":\"Njk0Nzc0MDE2MDA\",\"link_url\":\"https://www.11st.co.kr/products/5855396201?trTypeCd=21&amp;trCtgrNo=585021\",\"position_l2\":\"52\",\"product_no\":\"5855396201\"}' href=\"https://shop.11st.co.kr/stores/671844?pdpPrdNo=5855396201\" rel=\"noreferrer\" target=\"_blank\"><span class=\"name\">베케트</span></a></div>\n",
      "<div class=\"c_prd_seller\"><a data-log-actionid-label=\"sellername\" data-log-body='{\"content_type\":\"SELLER\",\"content_no\":\"MjgzMzg5MjA0NDg\",\"link_url\":\"https://www.11st.co.kr/products/5737310920?trTypeCd=21&amp;trCtgrNo=585021\",\"position_l2\":\"53\",\"product_no\":\"5737310920\"}' href=\"https://shop.11st.co.kr/stores/287731?pdpPrdNo=5737310920\" rel=\"noreferrer\" target=\"_blank\"><span class=\"name\">엑스포넷주식회사</span></a></div>\n",
      "<div class=\"c_prd_seller\"><a data-log-actionid-label=\"sellername\" data-log-body='{\"content_type\":\"SELLER\",\"content_no\":\"MzcxOTMxNjY4NDg\",\"link_url\":\"https://www.11st.co.kr/products/1716308000?trTypeCd=21&amp;trCtgrNo=585021\",\"position_l2\":\"54\",\"product_no\":\"1716308000\"}' href=\"https://shop.11st.co.kr/stores/292955?pdpPrdNo=1716308000\" rel=\"noreferrer\" target=\"_blank\"><span class=\"name\">★레인하트★</span></a></div>\n",
      "<div class=\"c_prd_seller\"><a data-log-actionid-label=\"sellername\" data-log-body='{\"content_type\":\"SELLER\",\"content_no\":\"MTQ3OTMxMjM4NDA\",\"link_url\":\"https://www.11st.co.kr/products/4190314685?trTypeCd=21&amp;trCtgrNo=585021\",\"position_l2\":\"55\",\"product_no\":\"4190314685\"}' href=\"https://shop.11st.co.kr/stores/138428?pdpPrdNo=4190314685\" rel=\"noreferrer\" target=\"_blank\"><span class=\"name\">KT알파쇼핑_온라인몰</span></a></div>\n",
      "<div class=\"c_prd_seller\"><a data-log-actionid-label=\"sellername\" data-log-body='{\"content_type\":\"SELLER\",\"content_no\":\"MjYxOTMzNzUyMzI\",\"link_url\":\"https://www.11st.co.kr/products/5676635040?trTypeCd=21&amp;trCtgrNo=585021\",\"position_l2\":\"56\",\"product_no\":\"5676635040\"}' href=\"https://shop.11st.co.kr/stores/251899?pdpPrdNo=5676635040\" rel=\"noreferrer\" target=\"_blank\"><span class=\"name\">롯데아이몰</span></a></div>\n",
      "<div class=\"c_prd_seller\"><a data-log-actionid-label=\"sellername\" data-log-body='{\"content_type\":\"SELLER\",\"content_no\":\"MjE5ODU4Njg4MDA\",\"link_url\":\"https://www.11st.co.kr/products/5133279576?trTypeCd=21&amp;trCtgrNo=585021\",\"position_l2\":\"57\",\"product_no\":\"5133279576\"}' href=\"https://shop.11st.co.kr/stores/205169?pdpPrdNo=5133279576\" rel=\"noreferrer\" target=\"_blank\"><span class=\"name\">borikids</span></a></div>\n",
      "<div class=\"c_prd_seller\"><a data-log-actionid-label=\"sellername\" data-log-body='{\"content_type\":\"SELLER\",\"content_no\":\"NTc5MDgzODE2OTY\",\"link_url\":\"https://www.11st.co.kr/products/3068047681?trTypeCd=21&amp;trCtgrNo=585021\",\"position_l2\":\"58\",\"product_no\":\"3068047681\"}' href=\"https://shop.11st.co.kr/stores/515976?pdpPrdNo=3068047681\" rel=\"noreferrer\" target=\"_blank\"><span class=\"name\">밀리엔</span></a></div>\n",
      "<div class=\"c_prd_seller\"><a data-log-actionid-label=\"sellername\" data-log-body='{\"content_type\":\"SELLER\",\"content_no\":\"NDM1NDA3Njc3NDQ\",\"link_url\":\"https://www.11st.co.kr/products/5569348373?trTypeCd=21&amp;trCtgrNo=585021\",\"position_l2\":\"59\",\"product_no\":\"5569348373\"}' href=\"https://shop.11st.co.kr/stores/386525?pdpPrdNo=5569348373\" rel=\"noreferrer\" target=\"_blank\"><span class=\"name\">jensshi</span></a></div>\n",
      "<div class=\"c_prd_seller\"><a data-log-actionid-label=\"sellername\" data-log-body='{\"content_type\":\"SELLER\",\"content_no\":\"MjYxOTMzNzUyMzI\",\"link_url\":\"https://www.11st.co.kr/products/5932281217?trTypeCd=21&amp;trCtgrNo=585021\",\"position_l2\":\"60\",\"product_no\":\"5932281217\"}' href=\"https://shop.11st.co.kr/stores/251899?pdpPrdNo=5932281217\" rel=\"noreferrer\" target=\"_blank\"><span class=\"name\">롯데아이몰</span></a></div>\n",
      "<div class=\"c_prd_seller\"><a data-log-actionid-label=\"sellername\" data-log-body='{\"content_type\":\"SELLER\",\"content_no\":\"Njg2MDAyNTY1MTI\",\"link_url\":\"https://www.11st.co.kr/products/3630858041?trTypeCd=21&amp;trCtgrNo=585021\",\"position_l2\":\"61\",\"product_no\":\"3630858041\"}' href=\"https://shop.11st.co.kr/stores/643801?pdpPrdNo=3630858041\" rel=\"noreferrer\" target=\"_blank\"><span class=\"name\">GSSHOP_</span></a></div>\n",
      "<div class=\"c_prd_seller\"><a data-log-actionid-label=\"sellername\" data-log-body='{\"content_type\":\"SELLER\",\"content_no\":\"Mjc1NTQxODYyNDA\",\"link_url\":\"https://www.11st.co.kr/products/4196770794?trTypeCd=21&amp;trCtgrNo=585021\",\"position_l2\":\"62\",\"product_no\":\"4196770794\"}' href=\"https://shop.11st.co.kr/stores/271857?pdpPrdNo=4196770794\" rel=\"noreferrer\" target=\"_blank\"><span class=\"name\">협립스토어</span></a></div>\n",
      "<div class=\"c_prd_seller\"><a data-log-actionid-label=\"sellername\" data-log-body='{\"content_type\":\"SELLER\",\"content_no\":\"Njg2MDAyNTY1MTI\",\"link_url\":\"https://www.11st.co.kr/products/4784068324?trTypeCd=21&amp;trCtgrNo=585021\",\"position_l2\":\"63\",\"product_no\":\"4784068324\"}' href=\"https://shop.11st.co.kr/stores/643801?pdpPrdNo=4784068324\" rel=\"noreferrer\" target=\"_blank\"><span class=\"name\">GSSHOP_</span></a></div>\n",
      "<div class=\"c_prd_seller\"><a data-log-actionid-label=\"sellername\" data-log-body='{\"content_type\":\"SELLER\",\"content_no\":\"MjE5ODU4Njg4MDA\",\"link_url\":\"https://www.11st.co.kr/products/5133281615?trTypeCd=21&amp;trCtgrNo=585021\",\"position_l2\":\"64\",\"product_no\":\"5133281615\"}' href=\"https://shop.11st.co.kr/stores/205169?pdpPrdNo=5133281615\" rel=\"noreferrer\" target=\"_blank\"><span class=\"name\">borikids</span></a></div>\n",
      "<div class=\"c_prd_seller\"><a data-log-actionid-label=\"sellername\" data-log-body='{\"content_type\":\"SELLER\",\"content_no\":\"NjQyOTY3NDM5MzY\",\"link_url\":\"https://www.11st.co.kr/products/5844028090?trTypeCd=21&amp;trCtgrNo=585021\",\"position_l2\":\"65\",\"product_no\":\"5844028090\"}' href=\"https://shop.11st.co.kr/stores/564878?pdpPrdNo=5844028090\" rel=\"noreferrer\" target=\"_blank\"><span class=\"name\">이마트몰</span></a></div>\n",
      "<div class=\"c_prd_seller\"><a data-log-actionid-label=\"sellername\" data-log-body='{\"content_type\":\"SELLER\",\"content_no\":\"MjYxOTMzNzUyMzI\",\"link_url\":\"https://www.11st.co.kr/products/5718464966?trTypeCd=21&amp;trCtgrNo=585021\",\"position_l2\":\"66\",\"product_no\":\"5718464966\"}' href=\"https://shop.11st.co.kr/stores/251899?pdpPrdNo=5718464966\" rel=\"noreferrer\" target=\"_blank\"><span class=\"name\">롯데아이몰</span></a></div>\n",
      "<div class=\"c_prd_seller\"><a data-log-actionid-label=\"sellername\" data-log-body='{\"content_type\":\"SELLER\",\"content_no\":\"MjgyMzcxNDgxNjA\",\"link_url\":\"https://www.11st.co.kr/products/5491268618?trTypeCd=21&amp;trCtgrNo=585021\",\"position_l2\":\"67\",\"product_no\":\"5491268618\"}' href=\"https://shop.11st.co.kr/stores/4951?pdpPrdNo=5491268618\" rel=\"noreferrer\" target=\"_blank\"><span class=\"name\">홍이키티</span></a></div>\n",
      "<div class=\"c_prd_seller\"><a data-log-actionid-label=\"sellername\" data-log-body='{\"content_type\":\"SELLER\",\"content_no\":\"Njg0NDU4ODAzMjA\",\"link_url\":\"https://www.11st.co.kr/products/3796157916?trTypeCd=21&amp;trCtgrNo=585021\",\"position_l2\":\"68\",\"product_no\":\"3796157916\"}' href=\"https://shop.11st.co.kr/stores/644323?pdpPrdNo=3796157916\" rel=\"noreferrer\" target=\"_blank\"><span class=\"name\">클라우드마켓HY</span></a></div>\n",
      "<div class=\"c_prd_seller\"><a data-log-actionid-label=\"sellername\" data-log-body='{\"content_type\":\"SELLER\",\"content_no\":\"NzQyNjkwNjYyNDA\",\"link_url\":\"https://www.11st.co.kr/products/5660808101?trTypeCd=21&amp;trCtgrNo=585021\",\"position_l2\":\"69\",\"product_no\":\"5660808101\"}' href=\"https://shop.11st.co.kr/stores/868557?pdpPrdNo=5660808101\" rel=\"noreferrer\" target=\"_blank\"><span class=\"name\">은수기의야호</span></a></div>\n",
      "<div class=\"c_prd_seller\"><a data-log-actionid-label=\"sellername\" data-log-body='{\"content_type\":\"SELLER\",\"content_no\":\"NzI1NDIyOTUwNDA\",\"link_url\":\"https://www.11st.co.kr/products/5574035575?trTypeCd=21&amp;trCtgrNo=585021\",\"position_l2\":\"70\",\"product_no\":\"5574035575\"}' href=\"https://shop.11st.co.kr/stores/769768?pdpPrdNo=5574035575\" rel=\"noreferrer\" target=\"_blank\"><span class=\"name\">더디에치샵</span></a></div>\n",
      "<div class=\"c_prd_seller\"><a data-log-actionid-label=\"sellername\" data-log-body='{\"content_type\":\"SELLER\",\"content_no\":\"NzQ4MDU0MTc5ODQ\",\"link_url\":\"https://www.11st.co.kr/products/5964163217?trTypeCd=21&amp;trCtgrNo=585021\",\"position_l2\":\"71\",\"product_no\":\"5964163217\"}' href=\"https://shop.11st.co.kr/stores/885896?pdpPrdNo=5964163217\" rel=\"noreferrer\" target=\"_blank\"><span class=\"name\">띵크퍼니</span></a></div>\n",
      "<div class=\"c_prd_seller\"><a data-log-actionid-label=\"sellername\" data-log-body='{\"content_type\":\"SELLER\",\"content_no\":\"MzgyMTMxNTc4ODg\",\"link_url\":\"https://www.11st.co.kr/products/3423683835?trTypeCd=21&amp;trCtgrNo=585021\",\"position_l2\":\"72\",\"product_no\":\"3423683835\"}' href=\"https://shop.11st.co.kr/stores/314450?pdpPrdNo=3423683835\" rel=\"noreferrer\" target=\"_blank\"><span class=\"name\">비와몰</span></a></div>\n",
      "<div class=\"c_prd_seller\"><a data-log-actionid-label=\"sellername\" data-log-body='{\"content_type\":\"SELLER\",\"content_no\":\"NzMwODUyNjY5NDQ\",\"link_url\":\"https://www.11st.co.kr/products/5742409291?trTypeCd=21&amp;trCtgrNo=585021\",\"position_l2\":\"73\",\"product_no\":\"5742409291\"}' href=\"https://shop.11st.co.kr/stores/805290?pdpPrdNo=5742409291\" rel=\"noreferrer\" target=\"_blank\"><span class=\"name\">캐릭터1번지</span></a></div>\n",
      "<div class=\"c_prd_seller\"><a data-log-actionid-label=\"sellername\" data-log-body='{\"content_type\":\"SELLER\",\"content_no\":\"MTQ3OTMxMjM4NDA\",\"link_url\":\"https://www.11st.co.kr/products/4190314630?trTypeCd=21&amp;trCtgrNo=585021\",\"position_l2\":\"74\",\"product_no\":\"4190314630\"}' href=\"https://shop.11st.co.kr/stores/138428?pdpPrdNo=4190314630\" rel=\"noreferrer\" target=\"_blank\"><span class=\"name\">KT알파쇼핑_온라인몰</span></a></div>\n",
      "<div class=\"c_prd_seller\"><a data-log-actionid-label=\"sellername\" data-log-body='{\"content_type\":\"SELLER\",\"content_no\":\"NjY5ODk5NDk5NTI\",\"link_url\":\"https://www.11st.co.kr/products/5286413514?trTypeCd=21&amp;trCtgrNo=585021\",\"position_l2\":\"75\",\"product_no\":\"5286413514\"}' href=\"https://shop.11st.co.kr/stores/606614?pdpPrdNo=5286413514\" rel=\"noreferrer\" target=\"_blank\"><span class=\"name\">중국집짓기</span></a></div>\n",
      "<div class=\"c_prd_seller\"><a data-log-actionid-label=\"sellername\" data-log-body='{\"content_type\":\"SELLER\",\"content_no\":\"NzUwNTYyNzAzMzY\",\"link_url\":\"https://www.11st.co.kr/products/5896065785?trTypeCd=21&amp;trCtgrNo=585021\",\"position_l2\":\"76\",\"product_no\":\"5896065785\"}' href=\"https://shop.11st.co.kr/stores/897197?pdpPrdNo=5896065785\" rel=\"noreferrer\" target=\"_blank\"><span class=\"name\">빅스타마켓</span></a></div>\n",
      "<div class=\"c_prd_seller\"><a data-log-actionid-label=\"sellername\" data-log-body='{\"content_type\":\"SELLER\",\"content_no\":\"NzQ0OTEzNDY5NDQ\",\"link_url\":\"https://www.11st.co.kr/products/5971027077?trTypeCd=21&amp;trCtgrNo=585021\",\"position_l2\":\"77\",\"product_no\":\"5971027077\"}' rel=\"noreferrer\" target=\"_blank\"><span class=\"name\">오케이수빈</span></a></div>\n",
      "<div class=\"c_prd_seller\"><a data-log-actionid-label=\"sellername\" data-log-body='{\"content_type\":\"SELLER\",\"content_no\":\"MjYxOTMzNzUyMzI\",\"link_url\":\"https://www.11st.co.kr/products/3246146553?trTypeCd=21&amp;trCtgrNo=585021\",\"position_l2\":\"78\",\"product_no\":\"3246146553\"}' href=\"https://shop.11st.co.kr/stores/251899?pdpPrdNo=3246146553\" rel=\"noreferrer\" target=\"_blank\"><span class=\"name\">롯데아이몰</span></a></div>\n",
      "<div class=\"c_prd_seller\"><a data-log-actionid-label=\"sellername\" data-log-body='{\"content_type\":\"SELLER\",\"content_no\":\"NzQ2MjA3ODI1OTI\",\"link_url\":\"https://www.11st.co.kr/products/5783589211?trTypeCd=21&amp;trCtgrNo=585021\",\"position_l2\":\"79\",\"product_no\":\"5783589211\"}' href=\"https://shop.11st.co.kr/stores/882411?pdpPrdNo=5783589211\" rel=\"noreferrer\" target=\"_blank\"><span class=\"name\">줄리둘리해피</span></a></div>\n",
      "<div class=\"c_prd_seller\"><a data-log-actionid-label=\"sellername\" data-log-body='{\"content_type\":\"SELLER\",\"content_no\":\"NzUxNDk4MzgzMzY\",\"link_url\":\"https://www.11st.co.kr/products/5918806786?trTypeCd=21&amp;trCtgrNo=585021\",\"position_l2\":\"80\",\"product_no\":\"5918806786\"}' href=\"https://shop.11st.co.kr/stores/907225?pdpPrdNo=5918806786\" rel=\"noreferrer\" target=\"_blank\"><span class=\"name\">드래그몰</span></a></div>\n",
      "<div class=\"c_prd_seller\"><a data-log-actionid-label=\"sellername\" data-log-body='{\"content_type\":\"SELLER\",\"content_no\":\"MzgwNzg3NzYzMjA\",\"link_url\":\"https://action.adoffice.11st.co.kr/act/click/v1/landing/clickdata/compress?clickData=_sx6kp703sBk4hB3OHKoadVo3Oszt_xF7fhv7FLOVMZaT-9vCmZKPCFzODiQ1inWm_tMqbQH_nKYW3wcoszTQXWwtEILA9f7WKIn_jSGVfQi1XXY_qI12SEzSSrFrhJR_75fTjK7BM8oetHm5-yTL09Bpaao8E3xhoDNeG4ZMUuTS5EoUNB9BQ4w44mmCDwGgBvf4OP-cBwm-uBGQPp4PMxvGBcXDg2hppZvsp7LsFmK6B852fW7oFb6NhVZLdxhqGe17l6bo1lx0ZVnnXp5kWioaZe305caSuQiJkuC2ijJtX9b_9JW6UqshAGSNtg-CiOunDjQGLCHPmjB5ZMa_GBBfJBmrOM_hf_dCfm98rC9cH87UfTsnnOpgh2m4Jflyly4iR7ZaWtnA8NocOBEQdQ55fqrg5pxXPsXPTcYOZPqsUYnHS4DU4115S13-Do_fHZGDhpBNjJUsbHXQde4pF3HFV5q8Z3rqh7CDpPCf6gTds4cHTFcrwHUx8pZStMctjNbSzUMSqnCK4FNFPLq2tvdS2eZtN5RmordzxHbT6f51h-OzDvbh8UZhpwsjf87OMufyUuxyVdmBRtAnD4qak2B_kBnm9VbcLvTxh09jU7_fC5bV7q61Lv-WtziBh8sVXyZD_NyWnYsyOmrSxtZfhjAk1tYw6prKSTtbaeYRswLMZDKI7yWXcYnd9UHJiePtJIx3A4dpO6psNzh5t5_dtyNP4XHZDyguPhn1AxBGmAw6ya6SeK-RuQZlDpuzPx0or0lhckxH2WZwS93xzLLbBmWPlKG3fug-qCqC4ltB9EU6i0fJjCDlbY5mkt1dYn_4R72vni0yZw2jstTFL5xDTc8JT7rz5RHbAJWRPR1Dw0HbMIgNQ9ckDkYBnB4axRUZDo1n8bEyMaBr2dT5_9UvxvpKPU-mCFC1vmOqlkpPjq8sYC0Bg5tsFjlrZYOvVeTljH_b3tOyuYCSq3jQqmLOO1d7o3gKahcvUZNUMkKquJSSJTw5xDcX6hZdnQ_Cpazbl-Hm6wpVzpS0q45PnW_4i1HRwFKB4IHwJ-xtwAjAs8kA5-4FgtxtqEhX1EkoxYwYcdgdKDh7Jt7qOpOVh7hIpPvvH7dIMts2KgkvYjlPTs&amp;redirect=https%3A%2F%2Fwww.11st.co.kr%2Fproducts%2F1825262332%3FtrTypeCd%3DPW24%26trCtgrNo%3D585021\",\"position_l2\":\"1\",\"product_no\":\"1825262332\"}' href=\"https://shop.11st.co.kr/stores/songwoltowel?pdpPrdNo=1825262332\" rel=\"noreferrer\" target=\"_blank\"><span class=\"name\">송월타올앤리빙</span></a></div>\n",
      "<div class=\"c_prd_seller\"><a data-log-actionid-label=\"sellername\" data-log-body='{\"content_type\":\"SELLER\",\"content_no\":\"MTE4OTUzMjc3NDQ\",\"link_url\":\"https://action.adoffice.11st.co.kr/act/click/v1/landing/clickdata/compress?clickData=h0s8dvtBkvoxmzTVBj5U5bbZN7SQR7E8QoVU7fJi8h2GLoU9fxCZukUvCvX_Oz__qxgbO6GAh65anqNCu4iMeVKrYOTZAyGgo9oY2NQaROeK877ycptmB1iqLx_RzPgNpGlwQDV0yR-8X7d9hLFUGJ7NjiZQDpG-Hhk4RZK2adySjd84z4l_nWWUUn8beCRfmiRLx2CCGlB4hXMNPWxidw8qu1CCWU7hB7TIW2YR3idHtKFUpocTjdSwh6sCuOFx9WiU9V_n0mBuSkUGMt7Nyg0RZRne1S_KTGm1M-GSihUI-VA6zgkw-liUCcG3dSqsNCQzvr2eMvtw5NT2oFPTFqQSIhpn-LBW9wgkWn6N3UrKpziMoOD0TsIaiNz7gIYZn074mJ60CNLjrcFvLrvzaDV299ajJIVB70m5c-V7iXhZvuT34oCJaWBs5yYnZEVyPuO3cGgB4GMutVFOSbEnljctWfIw44C9ftmxd-NmrNIZLGNVm68Zi7a8LzL8BUIC9Th2NK3sXlrptVfEc_SaSfxNJa0WBrRg6pA_FIyziC4Cf2tiDv-gVauKz9oPf1O-VoblrCXf_r5kefQ29MRqgxPtdYV-W611buGCEvzo7ZFEA3HJXLkM3IgXBL2bB5D1TgRrYImrBHc8rxFrd9LauCTkOzTCz1bFmN2u8nbtfhvfx7_-rf1fRVNX7mAJmCr7azuYeaVnSlfpRhCg_zgD4qrVss7DUG09mbhqngBWAL9qLlcKvilRF6o-rlJw8UNTLKuSlLhfzsbhMnXgizIPbVkrrJDjCCHOxp0elbLNuTAJp10nV4_NH0fLMmCKRUd5IdIQug9m02c8TbpX4JUHZIyd-URHwzm4muEvZEs0dyKYjvEdUhwVkJrchbNHNsQE58Ze0kg5uGjY2xY2OMeA-7qNL04_BlsGgG_cr-uEh3wPb3whEexnLZ9mpoxMoPBqhDWMBCLQagkjTOds_R7F5FqKLqX2M324vnoZv4j_6hs0SPtiUhW2AMDi0YXnRo0tCJ4ELLYbj-wQjpjkWPe5Cy0vsQv5puFAOOhYLZjHuG4A7XkMyx-8d6mZeTNCi8X9EuoswGd3ZGvu_86ANeYBXyoQR7jSAJxWTtuSo2GMTbY&amp;redirect=https%3A%2F%2Fwww.11st.co.kr%2Fproducts%2F3651666064%3FtrTypeCd%3DPW24%26trCtgrNo%3D585021\",\"position_l2\":\"2\",\"product_no\":\"3651666064\"}' href=\"https://shop.11st.co.kr/stores/109159?pdpPrdNo=3651666064\" rel=\"noreferrer\" target=\"_blank\"><span class=\"name\">대현DH상사</span></a></div>\n",
      "<div class=\"c_prd_seller\"><a data-log-actionid-label=\"sellername\" data-log-body='{\"content_type\":\"SELLER\",\"content_no\":\"MTA4NTg2MjcwNzI\",\"link_url\":\"https://action.adoffice.11st.co.kr/act/click/v1/landing/clickdata/compress?clickData=A1pgTwtSRSRjqhYiBchP7iqQ_7vH4qmVpgpBLq4ap5j3FxqHfXSWqy0ydcBq0lumPA_sYS1evsCIuM0Hc3kT4uNfViEytYN2TaiTRIbTj3IVS2bTwCjN213NuWSTb8lZGIhover1xXN3Y4u8PCajrXGIWJVnRuVCUj9BnW5tIlZ2fV7PdhpAKZhJ5lJE0eUkmgXZi3j249sMWXI9FJV8e2f_5Ihi3w1vPNrGW98MrCSSonIP5FLY8sQe_bgVxB2yPw2g499HPyBypfIGxogenaQ5hxBJakmmBNrciMWB5EueWHzus0dK_kF2pfTf24Ylrds44IPDuKTJ46aL5uhWCfH_UietQepdC8x1koq7Y7YUtpnD1rfMl5rOJHJ6hv1U6VLMQCDnMB6Y4d8P260Us1lbJTpqHprY-i-aINa6Q1-W2bO8QpVqIezSkhLNOVdbmU1zslfgvJ30ys3ALmp7mskIZz6uRRTG7L6NSGrMiQapjcjkeTl_jJ5TXVTxntO-p4FD5KU6XmzfIX2wiy0hNsSj4NRHdIjp3_p-CjhYwEy9-_Ip_SDumZzJVcPZX-ZKsoLUHY9R_ePmKJbwXzabeQ7nHzESPmEIO--PjGER6Vnk4774Cd6sMSHCJD2-r6dzPnkgkMrVUDmWGIuukBsABVgWhfjpuSm868T8tCwTLNUxqqIg1oD7THwE0lxBvWO0PJIz5skJIOnJETBp4KWls622_Dv4qD5W8YR1GuougUyhfrd-wu-BExh3se0xtSHTfa_LvEqYzooXeMQqigiAKJee7qk3Rl1Hj2qJoLAlUYAvfKPTYoM-yUxVtT9BYQw82oQs5y1l9XVGOWJHktDUOnMJhTs1FUD8nYuhhBiQ8wE0E5mU_fbIbN8NTJJYJrtloFOborbrrkN4vSt2i5FZrIDCTQzkmUrOnIGAOSjSrwzvPfX75ujrECyavAnU65WZIQcAXky3vMfS6fA742WnNd_LufhcvquFqLYLV4iaCEzxd2XcI-RMb73gyuMSOt2iOUVxYzSgfB349shoy9Wf7WLxwFcvxd_zBVGQm1tqBi0OHc-Kayg4m5AA7e7lOH_WbnB9crFI6S7whp0X9vSY4A7OmgRAKse0ueEPA2jnusc&amp;redirect=https%3A%2F%2Fwww.11st.co.kr%2Fproducts%2F4809579488%3FtrTypeCd%3DPW24%26trCtgrNo%3D585021\",\"position_l2\":\"3\",\"product_no\":\"4809579488\"}' href=\"https://shop.11st.co.kr/stores/68626?pdpPrdNo=4809579488\" rel=\"noreferrer\" target=\"_blank\"><span class=\"name\">사이길드</span></a></div>\n"
     ]
    }
   ],
   "source": [
    "\n",
    "for i in soup:\n",
    "    print(i)\n",
    "#     print(i.find(\"a\").attrs['href'])"
   ]
  },
  {
   "cell_type": "code",
   "execution_count": 181,
   "id": "56c1095c",
   "metadata": {
    "collapsed": true
   },
   "outputs": [
    {
     "ename": "NoSuchElementException",
     "evalue": "Message: no such element: Unable to locate element: {\"method\":\"css selector\",\"selector\":\".store_info\"}\n  (Session info: chrome=114.0.5735.199); For documentation on this error, please visit: https://www.selenium.dev/documentation/webdriver/troubleshooting/errors#no-such-element-exception\nStacktrace:\nBacktrace:\n\tGetHandleVerifier [0x0098A813+48355]\n\t(No symbol) [0x0091C4B1]\n\t(No symbol) [0x00825358]\n\t(No symbol) [0x008509A5]\n\t(No symbol) [0x00850B3B]\n\t(No symbol) [0x0087E232]\n\t(No symbol) [0x0086A784]\n\t(No symbol) [0x0087C922]\n\t(No symbol) [0x0086A536]\n\t(No symbol) [0x008482DC]\n\t(No symbol) [0x008493DD]\n\tGetHandleVerifier [0x00BEAABD+2539405]\n\tGetHandleVerifier [0x00C2A78F+2800735]\n\tGetHandleVerifier [0x00C2456C+2775612]\n\tGetHandleVerifier [0x00A151E0+616112]\n\t(No symbol) [0x00925F8C]\n\t(No symbol) [0x00922328]\n\t(No symbol) [0x0092240B]\n\t(No symbol) [0x00914FF7]\n\tBaseThreadInitThunk [0x774A00C9+25]\n\tRtlGetAppContainerNamedObjectPath [0x77BE7B4E+286]\n\tRtlGetAppContainerNamedObjectPath [0x77BE7B1E+238]\n",
     "output_type": "error",
     "traceback": [
      "\u001b[1;31m---------------------------------------------------------------------------\u001b[0m",
      "\u001b[1;31mNoSuchElementException\u001b[0m                    Traceback (most recent call last)",
      "Cell \u001b[1;32mIn[181], line 5\u001b[0m\n\u001b[0;32m      3\u001b[0m browser\u001b[38;5;241m.\u001b[39mget(i)    \n\u001b[0;32m      4\u001b[0m time\u001b[38;5;241m.\u001b[39msleep(\u001b[38;5;241m0.5\u001b[39m)\n\u001b[1;32m----> 5\u001b[0m s_info \u001b[38;5;241m=\u001b[39m \u001b[43mfind_className\u001b[49m\u001b[43m(\u001b[49m\u001b[38;5;124;43m\"\u001b[39;49m\u001b[38;5;124;43mstore_info\u001b[39;49m\u001b[38;5;124;43m\"\u001b[39;49m\u001b[43m)\u001b[49m\u001b[38;5;241m.\u001b[39mclick()\n\u001b[0;32m      6\u001b[0m string \u001b[38;5;241m=\u001b[39m find_className(\u001b[38;5;124m\"\u001b[39m\u001b[38;5;124mstore_info_detail\u001b[39m\u001b[38;5;124m\"\u001b[39m)\u001b[38;5;241m.\u001b[39mtext\u001b[38;5;241m.\u001b[39msplit(\u001b[38;5;124m'\u001b[39m\u001b[38;5;130;01m\\n\u001b[39;00m\u001b[38;5;124m'\u001b[39m)\n\u001b[0;32m      7\u001b[0m seller_info\u001b[38;5;241m.\u001b[39mappend(string)\n",
      "Cell \u001b[1;32mIn[20], line 15\u001b[0m, in \u001b[0;36mfind_className\u001b[1;34m(cn)\u001b[0m\n\u001b[0;32m     14\u001b[0m \u001b[38;5;28;01mdef\u001b[39;00m \u001b[38;5;21mfind_className\u001b[39m(cn):\n\u001b[1;32m---> 15\u001b[0m     \u001b[38;5;28;01mreturn\u001b[39;00m \u001b[43mbrowser\u001b[49m\u001b[38;5;241;43m.\u001b[39;49m\u001b[43mfind_element\u001b[49m\u001b[43m(\u001b[49m\u001b[43mBy\u001b[49m\u001b[38;5;241;43m.\u001b[39;49m\u001b[43mCLASS_NAME\u001b[49m\u001b[43m,\u001b[49m\u001b[43m \u001b[49m\u001b[43mcn\u001b[49m\u001b[43m)\u001b[49m\n",
      "File \u001b[1;32m~\\AppData\\Local\\anaconda3\\lib\\site-packages\\selenium\\webdriver\\remote\\webdriver.py:740\u001b[0m, in \u001b[0;36mWebDriver.find_element\u001b[1;34m(self, by, value)\u001b[0m\n\u001b[0;32m    737\u001b[0m     by \u001b[38;5;241m=\u001b[39m By\u001b[38;5;241m.\u001b[39mCSS_SELECTOR\n\u001b[0;32m    738\u001b[0m     value \u001b[38;5;241m=\u001b[39m \u001b[38;5;124mf\u001b[39m\u001b[38;5;124m'\u001b[39m\u001b[38;5;124m[name=\u001b[39m\u001b[38;5;124m\"\u001b[39m\u001b[38;5;132;01m{\u001b[39;00mvalue\u001b[38;5;132;01m}\u001b[39;00m\u001b[38;5;124m\"\u001b[39m\u001b[38;5;124m]\u001b[39m\u001b[38;5;124m'\u001b[39m\n\u001b[1;32m--> 740\u001b[0m \u001b[38;5;28;01mreturn\u001b[39;00m \u001b[38;5;28;43mself\u001b[39;49m\u001b[38;5;241;43m.\u001b[39;49m\u001b[43mexecute\u001b[49m\u001b[43m(\u001b[49m\u001b[43mCommand\u001b[49m\u001b[38;5;241;43m.\u001b[39;49m\u001b[43mFIND_ELEMENT\u001b[49m\u001b[43m,\u001b[49m\u001b[43m \u001b[49m\u001b[43m{\u001b[49m\u001b[38;5;124;43m\"\u001b[39;49m\u001b[38;5;124;43musing\u001b[39;49m\u001b[38;5;124;43m\"\u001b[39;49m\u001b[43m:\u001b[49m\u001b[43m \u001b[49m\u001b[43mby\u001b[49m\u001b[43m,\u001b[49m\u001b[43m \u001b[49m\u001b[38;5;124;43m\"\u001b[39;49m\u001b[38;5;124;43mvalue\u001b[39;49m\u001b[38;5;124;43m\"\u001b[39;49m\u001b[43m:\u001b[49m\u001b[43m \u001b[49m\u001b[43mvalue\u001b[49m\u001b[43m}\u001b[49m\u001b[43m)\u001b[49m[\u001b[38;5;124m\"\u001b[39m\u001b[38;5;124mvalue\u001b[39m\u001b[38;5;124m\"\u001b[39m]\n",
      "File \u001b[1;32m~\\AppData\\Local\\anaconda3\\lib\\site-packages\\selenium\\webdriver\\remote\\webdriver.py:346\u001b[0m, in \u001b[0;36mWebDriver.execute\u001b[1;34m(self, driver_command, params)\u001b[0m\n\u001b[0;32m    344\u001b[0m response \u001b[38;5;241m=\u001b[39m \u001b[38;5;28mself\u001b[39m\u001b[38;5;241m.\u001b[39mcommand_executor\u001b[38;5;241m.\u001b[39mexecute(driver_command, params)\n\u001b[0;32m    345\u001b[0m \u001b[38;5;28;01mif\u001b[39;00m response:\n\u001b[1;32m--> 346\u001b[0m     \u001b[38;5;28;43mself\u001b[39;49m\u001b[38;5;241;43m.\u001b[39;49m\u001b[43merror_handler\u001b[49m\u001b[38;5;241;43m.\u001b[39;49m\u001b[43mcheck_response\u001b[49m\u001b[43m(\u001b[49m\u001b[43mresponse\u001b[49m\u001b[43m)\u001b[49m\n\u001b[0;32m    347\u001b[0m     response[\u001b[38;5;124m\"\u001b[39m\u001b[38;5;124mvalue\u001b[39m\u001b[38;5;124m\"\u001b[39m] \u001b[38;5;241m=\u001b[39m \u001b[38;5;28mself\u001b[39m\u001b[38;5;241m.\u001b[39m_unwrap_value(response\u001b[38;5;241m.\u001b[39mget(\u001b[38;5;124m\"\u001b[39m\u001b[38;5;124mvalue\u001b[39m\u001b[38;5;124m\"\u001b[39m, \u001b[38;5;28;01mNone\u001b[39;00m))\n\u001b[0;32m    348\u001b[0m     \u001b[38;5;28;01mreturn\u001b[39;00m response\n",
      "File \u001b[1;32m~\\AppData\\Local\\anaconda3\\lib\\site-packages\\selenium\\webdriver\\remote\\errorhandler.py:245\u001b[0m, in \u001b[0;36mErrorHandler.check_response\u001b[1;34m(self, response)\u001b[0m\n\u001b[0;32m    243\u001b[0m         alert_text \u001b[38;5;241m=\u001b[39m value[\u001b[38;5;124m\"\u001b[39m\u001b[38;5;124malert\u001b[39m\u001b[38;5;124m\"\u001b[39m]\u001b[38;5;241m.\u001b[39mget(\u001b[38;5;124m\"\u001b[39m\u001b[38;5;124mtext\u001b[39m\u001b[38;5;124m\"\u001b[39m)\n\u001b[0;32m    244\u001b[0m     \u001b[38;5;28;01mraise\u001b[39;00m exception_class(message, screen, stacktrace, alert_text)  \u001b[38;5;66;03m# type: ignore[call-arg]  # mypy is not smart enough here\u001b[39;00m\n\u001b[1;32m--> 245\u001b[0m \u001b[38;5;28;01mraise\u001b[39;00m exception_class(message, screen, stacktrace)\n",
      "\u001b[1;31mNoSuchElementException\u001b[0m: Message: no such element: Unable to locate element: {\"method\":\"css selector\",\"selector\":\".store_info\"}\n  (Session info: chrome=114.0.5735.199); For documentation on this error, please visit: https://www.selenium.dev/documentation/webdriver/troubleshooting/errors#no-such-element-exception\nStacktrace:\nBacktrace:\n\tGetHandleVerifier [0x0098A813+48355]\n\t(No symbol) [0x0091C4B1]\n\t(No symbol) [0x00825358]\n\t(No symbol) [0x008509A5]\n\t(No symbol) [0x00850B3B]\n\t(No symbol) [0x0087E232]\n\t(No symbol) [0x0086A784]\n\t(No symbol) [0x0087C922]\n\t(No symbol) [0x0086A536]\n\t(No symbol) [0x008482DC]\n\t(No symbol) [0x008493DD]\n\tGetHandleVerifier [0x00BEAABD+2539405]\n\tGetHandleVerifier [0x00C2A78F+2800735]\n\tGetHandleVerifier [0x00C2456C+2775612]\n\tGetHandleVerifier [0x00A151E0+616112]\n\t(No symbol) [0x00925F8C]\n\t(No symbol) [0x00922328]\n\t(No symbol) [0x0092240B]\n\t(No symbol) [0x00914FF7]\n\tBaseThreadInitThunk [0x774A00C9+25]\n\tRtlGetAppContainerNamedObjectPath [0x77BE7B4E+286]\n\tRtlGetAppContainerNamedObjectPath [0x77BE7B1E+238]\n"
     ]
    }
   ],
   "source": []
  },
  {
   "cell_type": "code",
   "execution_count": 182,
   "id": "0030f571",
   "metadata": {},
   "outputs": [
    {
     "name": "stdout",
     "output_type": "stream",
     "text": [
      "['판매자', '차병준 (czo***)', '사업자 구분', '개인판매자', '전화번호', 'e-mail', 'czoo0@naver.com']\n",
      "['판매자', '김인숙 (ida***)', '사업자 구분', '개인판매자', '전화번호', 'e-mail', 'insuk3869@gmail.com']\n"
     ]
    }
   ],
   "source": []
  },
  {
   "cell_type": "code",
   "execution_count": null,
   "id": "6af7084d",
   "metadata": {},
   "outputs": [],
   "source": []
  },
  {
   "cell_type": "code",
   "execution_count": null,
   "id": "9304ad66",
   "metadata": {},
   "outputs": [],
   "source": []
  },
  {
   "cell_type": "code",
   "execution_count": null,
   "id": "3ed580d7",
   "metadata": {},
   "outputs": [],
   "source": []
  },
  {
   "cell_type": "code",
   "execution_count": 139,
   "id": "9168e60e",
   "metadata": {},
   "outputs": [],
   "source": [
    "browser.get(\"https://search.11st.co.kr/Search.tmall?kwd=양말\")"
   ]
  },
  {
   "cell_type": "code",
   "execution_count": 114,
   "id": "7853a81f",
   "metadata": {},
   "outputs": [],
   "source": [
    "browser.get(\"https://shop.11st.co.kr/stores/4668?pdpPrdNo=1487490920\")"
   ]
  },
  {
   "cell_type": "code",
   "execution_count": 49,
   "id": "8f61932c",
   "metadata": {},
   "outputs": [],
   "source": [
    "soup = BS(browser.page_source, \"html.parser\")\n",
    "a = soup.find_all(class_='c_prd_seller')"
   ]
  },
  {
   "cell_type": "code",
   "execution_count": 55,
   "id": "ad7f994e",
   "metadata": {},
   "outputs": [],
   "source": [
    "hrefs= []\n",
    "\n",
    "for j in a:\n",
    "    hrefs.append(j.find(\"a\").attrs['href'])"
   ]
  },
  {
   "cell_type": "code",
   "execution_count": 56,
   "id": "a4eec853",
   "metadata": {
    "collapsed": true
   },
   "outputs": [
    {
     "name": "stdout",
     "output_type": "stream",
     "text": [
      "https://shop.11st.co.kr/stores/4668?pdpPrdNo=1487490920\n",
      "https://shop.11st.co.kr/stores/417532?pdpPrdNo=2175121948\n",
      "https://shop.11st.co.kr/stores/505709?pdpPrdNo=2344728624\n",
      "https://shop.11st.co.kr/stores/460514?pdpPrdNo=2292979468\n",
      "https://shop.11st.co.kr/stores/517878?pdpPrdNo=2469136448\n",
      "https://shop.11st.co.kr/stores/8656?pdpPrdNo=2520308869\n",
      "https://shop.11st.co.kr/stores/wonsox?pdpPrdNo=2288626959\n",
      "https://shop.11st.co.kr/stores/602824?pdpPrdNo=5860633500\n",
      "https://shop.11st.co.kr/stores/2990?pdpPrdNo=4822543008\n",
      "https://shop.11st.co.kr/stores/10661?pdpPrdNo=20622289\n",
      "https://shop.11st.co.kr/stores/275859?pdpPrdNo=2643946177\n",
      "https://shop.11st.co.kr/stores/20723?pdpPrdNo=4068588562\n",
      "https://shop.11st.co.kr/stores/20723?pdpPrdNo=636617359\n",
      "https://shop.11st.co.kr/stores/2696?pdpPrdNo=1196725161\n",
      "https://shop.11st.co.kr/stores/371659?pdpPrdNo=3972107222\n",
      "https://shop.11st.co.kr/stores/2696?pdpPrdNo=464244657\n",
      "https://shop.11st.co.kr/stores/616338?pdpPrdNo=5531354279\n",
      "https://shop.11st.co.kr/stores/505709?pdpPrdNo=2343863450\n",
      "https://shop.11st.co.kr/stores/417532?pdpPrdNo=1911353680\n",
      "https://www.11st.co.kr/disp/DTAction.tmall?ID=SHOCKD&ctgrNo=70229\n",
      "https://www.11st.co.kr/disp/DTAction.tmall?ID=SHOCKD&ctgrNo=70229\n",
      "https://www.11st.co.kr/disp/DTAction.tmall?ID=SHOCKD&ctgrNo=70229\n",
      "https://www.11st.co.kr/disp/DTAction.tmall?ID=SHOCKD&ctgrNo=70229\n",
      "https://www.11st.co.kr/disp/DTAction.tmall?ID=SHOCKD&ctgrNo=70229\n",
      "https://shop.11st.co.kr/stores/390139?pdpPrdNo=2165805537\n",
      "https://shop.11st.co.kr/stores/1994?pdpPrdNo=243350467\n",
      "https://shop.11st.co.kr/stores/390139?pdpPrdNo=1526403484\n",
      "https://shop.11st.co.kr/stores/459954?pdpPrdNo=2119944625\n",
      "https://shop.11st.co.kr/stores/390139?pdpPrdNo=2165805537\n",
      "https://shop.11st.co.kr/stores/4668?pdpPrdNo=1487490920\n",
      "https://shop.11st.co.kr/stores/1994?pdpPrdNo=243350467\n",
      "https://shop.11st.co.kr/stores/390139?pdpPrdNo=1526403484\n",
      "https://shop.11st.co.kr/stores/459954?pdpPrdNo=2119944625\n",
      "https://shop.11st.co.kr/stores/251899?pdpPrdNo=5496985760\n",
      "https://shop.11st.co.kr/stores/658076?pdpPrdNo=3447059612\n",
      "https://shop.11st.co.kr/stores/362088?pdpPrdNo=1625026549\n",
      "https://shop.11st.co.kr/stores/493118?pdpPrdNo=2221464618\n",
      "https://shop.11st.co.kr/stores/8559?pdpPrdNo=94706796\n",
      "https://shop.11st.co.kr/stores/324056?pdpPrdNo=2063008924\n",
      "https://shop.11st.co.kr/stores/10661?pdpPrdNo=16235079\n",
      "https://shop.11st.co.kr/stores/10661?pdpPrdNo=1075220142\n",
      "https://shop.11st.co.kr/stores/505709?pdpPrdNo=2344728624\n",
      "https://shop.11st.co.kr/stores/748944?pdpPrdNo=4868097257\n",
      "https://shop.11st.co.kr/stores/417532?pdpPrdNo=1911353680\n",
      "https://shop.11st.co.kr/stores/390139?pdpPrdNo=1515610822\n",
      "https://shop.11st.co.kr/stores/442779?pdpPrdNo=1965927499\n",
      "https://shop.11st.co.kr/stores/610821?pdpPrdNo=3284513983\n",
      "https://shop.11st.co.kr/stores/658076?pdpPrdNo=3447065256\n",
      "https://shop.11st.co.kr/stores/369231?pdpPrdNo=2667511151\n",
      "https://shop.11st.co.kr/stores/1040?pdpPrdNo=1669041703\n",
      "https://shop.11st.co.kr/stores/727652?pdpPrdNo=4960254885\n",
      "https://shop.11st.co.kr/stores/362088?pdpPrdNo=2235266245\n",
      "https://shop.11st.co.kr/stores/11031?pdpPrdNo=2463527832\n",
      "https://shop.11st.co.kr/stores/271310?pdpPrdNo=5039378735\n",
      "https://shop.11st.co.kr/stores/1994?pdpPrdNo=1092644578\n",
      "https://shop.11st.co.kr/stores/407876?pdpPrdNo=1667294431\n",
      "https://shop.11st.co.kr/stores/526693?pdpPrdNo=2770385045\n",
      "https://shop.11st.co.kr/stores/390139?pdpPrdNo=5386656100\n",
      "https://shop.11st.co.kr/stores/3545?pdpPrdNo=3459517564\n",
      "https://shop.11st.co.kr/stores/192723?pdpPrdNo=55726851\n",
      "https://shop.11st.co.kr/stores/360865?pdpPrdNo=1373193500\n",
      "https://shop.11st.co.kr/stores/584599?pdpPrdNo=2877135685\n",
      "https://shop.11st.co.kr/stores/256668?pdpPrdNo=260282908\n",
      "https://shop.11st.co.kr/stores/221704?pdpPrdNo=106796896\n",
      "https://shop.11st.co.kr/stores/517878?pdpPrdNo=2469136448\n",
      "https://shop.11st.co.kr/stores/169920?pdpPrdNo=511524013\n",
      "https://shop.11st.co.kr/stores/6824?pdpPrdNo=1085308963\n",
      "https://shop.11st.co.kr/stores/375392?pdpPrdNo=4866145484\n",
      "https://shop.11st.co.kr/stores/537571?pdpPrdNo=2498690934\n",
      "https://shop.11st.co.kr/stores/217884?pdpPrdNo=1256504790\n",
      "https://shop.11st.co.kr/stores/402318?pdpPrdNo=1672333634\n",
      "https://shop.11st.co.kr/stores/367832?pdpPrdNo=1361846952\n",
      "https://shop.11st.co.kr/stores/10661?pdpPrdNo=20622289\n",
      "https://shop.11st.co.kr/stores/221704?pdpPrdNo=106801055\n",
      "https://shop.11st.co.kr/stores/6824?pdpPrdNo=1507381811\n",
      "https://shop.11st.co.kr/stores/568298?pdpPrdNo=2706106430\n",
      "https://shop.11st.co.kr/stores/550719?pdpPrdNo=2663928117\n",
      "https://shop.11st.co.kr/stores/6824?pdpPrdNo=1456215175\n",
      "https://shop.11st.co.kr/stores/367832?pdpPrdNo=2698291914\n",
      "https://shop.11st.co.kr/stores/10661?pdpPrdNo=2012751502\n",
      "https://shop.11st.co.kr/stores/221704?pdpPrdNo=106100994\n",
      "https://shop.11st.co.kr/stores/584599?pdpPrdNo=3294794237\n",
      "https://shop.11st.co.kr/stores/417532?pdpPrdNo=1810134752\n",
      "https://shop.11st.co.kr/stores/892794?pdpPrdNo=5921341525\n",
      "https://shop.11st.co.kr/stores/3468?pdpPrdNo=1275604610\n",
      "https://shop.11st.co.kr/stores/13758?pdpPrdNo=1858916284\n",
      "https://shop.11st.co.kr/stores/217884?pdpPrdNo=1256489901\n",
      "https://shop.11st.co.kr/stores/402318?pdpPrdNo=2135946128\n",
      "https://shop.11st.co.kr/stores/299531?pdpPrdNo=5740847109\n",
      "https://shop.11st.co.kr/stores/463294?pdpPrdNo=2114562608\n",
      "https://shop.11st.co.kr/stores/8559?pdpPrdNo=94707570\n",
      "https://shop.11st.co.kr/stores/84662?pdpPrdNo=1095277819\n",
      "https://shop.11st.co.kr/stores/261402?pdpPrdNo=347653719\n",
      "https://shop.11st.co.kr/stores/373328?pdpPrdNo=1363484464\n",
      "https://shop.11st.co.kr/stores/463294?pdpPrdNo=2803608026\n",
      "https://shop.11st.co.kr/stores/360865?pdpPrdNo=1458419452\n",
      "https://shop.11st.co.kr/stores/5420?pdpPrdNo=1214222599\n",
      "https://shop.11st.co.kr/stores/1040?pdpPrdNo=1655264033\n",
      "https://shop.11st.co.kr/stores/2782?pdpPrdNo=631417878\n",
      "https://shop.11st.co.kr/stores/132639?pdpPrdNo=1677963481\n",
      "https://shop.11st.co.kr/stores/402945?pdpPrdNo=5772452524\n",
      "https://shop.11st.co.kr/stores/375392?pdpPrdNo=2148692464\n",
      "https://shop.11st.co.kr/stores/683710?pdpPrdNo=4742654544\n",
      "https://shop.11st.co.kr/stores/1040?pdpPrdNo=1717617486\n",
      "https://shop.11st.co.kr/stores/375392?pdpPrdNo=2333962848\n",
      "https://shop.11st.co.kr/stores/362088?pdpPrdNo=2056744859\n",
      "https://shop.11st.co.kr/stores/658076?pdpPrdNo=3447063788\n",
      "https://shop.11st.co.kr/stores/6824?pdpPrdNo=2643376996\n",
      "https://shop.11st.co.kr/stores/4668?pdpPrdNo=1487490920\n",
      "https://shop.11st.co.kr/stores/417532?pdpPrdNo=2175121948\n",
      "https://shop.11st.co.kr/stores/505709?pdpPrdNo=2344728624\n"
     ]
    }
   ],
   "source": [
    "for i in hrefs:\n",
    "    print(i)"
   ]
  },
  {
   "cell_type": "code",
   "execution_count": 52,
   "id": "59528d2a",
   "metadata": {},
   "outputs": [],
   "source": [
    "hrefs = list(set(hrefs))"
   ]
  },
  {
   "cell_type": "code",
   "execution_count": 31,
   "id": "8d29c3b6",
   "metadata": {},
   "outputs": [],
   "source": [
    "elem = find_className(\"store_info\").click()"
   ]
  },
  {
   "cell_type": "code",
   "execution_count": 34,
   "id": "c0f1f895",
   "metadata": {},
   "outputs": [],
   "source": [
    "elem2 = find_className(\"store_info_detail\").text.split('\\n')"
   ]
  },
  {
   "cell_type": "code",
   "execution_count": 35,
   "id": "df15c06c",
   "metadata": {},
   "outputs": [
    {
     "data": {
      "text/plain": [
       "['판매자',\n",
       " '(주)투투삭스 (two*****)',\n",
       " '상호명/대표자',\n",
       " '(주)투투삭스 / 이경열',\n",
       " '사업자 구분',\n",
       " '법인사업자',\n",
       " '사업자등록번호',\n",
       " '7948800928',\n",
       " '통신판매업신고',\n",
       " '2018-경기포천-0064',\n",
       " '전화번호',\n",
       " '031-541-8710',\n",
       " 'e-mail',\n",
       " 'ceo@twotosox.com',\n",
       " '영업소재지',\n",
       " '경기도 포천시 소흘읍 호국로 243-9']"
      ]
     },
     "execution_count": 35,
     "metadata": {},
     "output_type": "execute_result"
    }
   ],
   "source": [
    "elem2"
   ]
  },
  {
   "cell_type": "code",
   "execution_count": 37,
   "id": "f21b980f",
   "metadata": {},
   "outputs": [],
   "source": [
    "tmp = elem2[3].split(' / ')"
   ]
  },
  {
   "cell_type": "code",
   "execution_count": 44,
   "id": "9978ba95",
   "metadata": {},
   "outputs": [
    {
     "data": {
      "text/plain": [
       "'이경열'"
      ]
     },
     "execution_count": 44,
     "metadata": {},
     "output_type": "execute_result"
    }
   ],
   "source": [
    "tmp[-1]"
   ]
  },
  {
   "cell_type": "code",
   "execution_count": 98,
   "id": "e374ae55",
   "metadata": {},
   "outputs": [],
   "source": [
    "final_info = [[''], [''],['']]\n"
   ]
  },
  {
   "cell_type": "code",
   "execution_count": 91,
   "id": "139ae9b3",
   "metadata": {},
   "outputs": [
    {
     "name": "stdout",
     "output_type": "stream",
     "text": [
      "['판매자', '주식회사 디보트 (dev****)', '상호명/대표자', '주식회사 디보트 / 정진훈', '사업자 구분', '법인사업자', '사업자등록번호', '2018633068', '통신판매업신고', '2018-서울서초-1045', '전화번호', '02-6404-5070', 'e-mail', 'likeknife@hanmail.net', '영업소재지', '서울특별시 서초구 방배로35길 38-4 (방배동,Yellow House) 지하1층']\n"
     ]
    }
   ],
   "source": [
    "print(seller_info[1])"
   ]
  },
  {
   "cell_type": "code",
   "execution_count": 65,
   "id": "6bd91fe3",
   "metadata": {},
   "outputs": [
    {
     "name": "stdout",
     "output_type": "stream",
     "text": [
      "https://shop.11st.co.kr/stores/658076?pdpPrdNo=3447065256\n"
     ]
    }
   ],
   "source": [
    "print(seller_page_hrefs[1])"
   ]
  },
  {
   "cell_type": "code",
   "execution_count": 111,
   "id": "4df350c6",
   "metadata": {},
   "outputs": [
    {
     "data": {
      "text/plain": [
       "0"
      ]
     },
     "execution_count": 111,
     "metadata": {},
     "output_type": "execute_result"
    }
   ],
   "source": []
  },
  {
   "cell_type": "code",
   "execution_count": 158,
   "id": "af68a817",
   "metadata": {},
   "outputs": [],
   "source": []
  },
  {
   "cell_type": "code",
   "execution_count": 159,
   "id": "4651a3de",
   "metadata": {},
   "outputs": [
    {
     "name": "stdout",
     "output_type": "stream",
     "text": [
      "2\n",
      "3\n",
      "4\n",
      "5\n",
      "6\n",
      "7\n",
      "8\n",
      "9\n",
      "10\n",
      "다음\n",
      "11, 1 if \n",
      "12\n",
      "13\n",
      "14\n",
      "15\n",
      "16\n",
      "17\n",
      "18\n",
      "19\n",
      "20\n",
      "다음\n",
      "21, 2 if \n",
      "21\n",
      "22\n",
      "23\n",
      "24\n",
      "25\n"
     ]
    }
   ],
   "source": [
    "\n",
    "    \n",
    "    "
   ]
  },
  {
   "cell_type": "code",
   "execution_count": 155,
   "id": "f70f2dda",
   "metadata": {},
   "outputs": [
    {
     "name": "stdout",
     "output_type": "stream",
     "text": [
      "13\n",
      "처음\n",
      "이전\n",
      "21\n",
      "22\n",
      "23\n",
      "24\n",
      "25\n",
      "26\n",
      "27\n",
      "28\n",
      "29\n",
      "30\n",
      "다음\n",
      "21\n"
     ]
    }
   ],
   "source": [
    "print(len(ta))\n",
    "for i in ta:\n",
    "    print(i.text)\n",
    "    \n",
    "print(ta[2].text)"
   ]
  },
  {
   "cell_type": "code",
   "execution_count": 134,
   "id": "3f0a89e2",
   "metadata": {},
   "outputs": [],
   "source": [
    "ta[2].click()"
   ]
  },
  {
   "cell_type": "code",
   "execution_count": null,
   "id": "599b639c",
   "metadata": {},
   "outputs": [],
   "source": [
    "def getNext(x, lst):\n",
    "    next_el = None\n",
    "    for i in range(0, len(lst)):\n",
    "        if lst[i] == x:\n",
    "            next_el = lst[i+1]\n",
    "    return next_el"
   ]
  },
  {
   "cell_type": "code",
   "execution_count": null,
   "id": "b61916b7",
   "metadata": {},
   "outputs": [],
   "source": [
    "error = []\n",
    "seller_info = []\n",
    "seller_page_hrefs = []\n",
    "cate = ['대표자', '전화번호','영업소재지']\n",
    "final_info = [[''], [''],['']]\n",
    "\n",
    "for keyword in keywords:\n",
    "\n",
    "    for i in range(2, 51):\n",
    "        browser.get(f'https://browse.gmarket.co.kr/search?keyword={keyword}&p={i}')\n",
    "        print(keyword, i)\n",
    "        soup = BS(browser.page_source, \"html.parser\")\n",
    "        soup = soup.find_all(class_='link__shop')\n",
    "        for i in soup:\n",
    "            try:\n",
    "                seller_page_hrefs.append(i[\"href\"])\n",
    "            except KeyError as ex:\n",
    "                print(i)\n",
    "                \n",
    "        seller_page_hrefs = list(set(seller_page_hrefs))\n",
    "#         seller_page_hrefs = list(seller_page_hrefs)\n",
    "    for href in seller_page_hrefs:\n",
    "        print(keyword, href)\n",
    "        try:\n",
    "            if 'http://corners.gmarket.co.kr/smiledelivery' in href:\n",
    "                continue\n",
    "            browser.get(href)\n",
    "            s_info = browser.find_element(By.ID, 'seller_info')\n",
    "            s_info.click()\n",
    "            time.sleep(0.5)\n",
    "            s_info = browser.find_element(By.TAG_NAME, 'dl')\n",
    "            string = s_info.text.split('\\n')\n",
    "            seller_info.append(string)\n",
    "        except Exception as ex:\n",
    "#             print(ex)\n",
    "            error.append(ex)\n",
    "\n",
    "    for i in seller_info:\n",
    "        try:\n",
    "            name = getNext(cate[0], i)\n",
    "            cont = getNext(cate[1], i)\n",
    "            loca = getNext(cate[2], i)\n",
    "            if all([name, cont, loca]) is None:\n",
    "                if all([name, cont]):\n",
    "                    final_info[0].append(name)\n",
    "                    final_info[1].append(str(cont))\n",
    "                    final_info[2].append('')\n",
    "                else:\n",
    "                    continue\n",
    "            else:\n",
    "                final_info[0].append(name)\n",
    "                final_info[1].append(str(cont))\n",
    "                final_info[2].append(loca)\n",
    "        except:\n",
    "            print('except')\n",
    "#                 final_info = tmp[:]\n",
    "df = pd.DataFrame({'대표자': final_info[0],\n",
    "                  '전화번호': final_info[1],\n",
    "                  '영업소재지': final_info[2]\n",
    "                  })\n",
    "df.to_csv(f'20230703.csv', encoding='utf-8-sig', index = False)"
   ]
  }
 ],
 "metadata": {
  "kernelspec": {
   "display_name": "Python 3 (ipykernel)",
   "language": "python",
   "name": "python3"
  },
  "language_info": {
   "codemirror_mode": {
    "name": "ipython",
    "version": 3
   },
   "file_extension": ".py",
   "mimetype": "text/x-python",
   "name": "python",
   "nbconvert_exporter": "python",
   "pygments_lexer": "ipython3",
   "version": "3.10.9"
  }
 },
 "nbformat": 4,
 "nbformat_minor": 5
}
